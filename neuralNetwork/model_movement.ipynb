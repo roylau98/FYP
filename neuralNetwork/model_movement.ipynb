{
 "cells": [
  {
   "cell_type": "code",
   "execution_count": 1,
   "id": "initial_id",
   "metadata": {
    "collapsed": true,
    "ExecuteTime": {
     "end_time": "2024-03-12T08:45:56.128194600Z",
     "start_time": "2024-03-12T08:45:51.022701900Z"
    }
   },
   "outputs": [],
   "source": [
    "import os\n",
    "import torch\n",
    "import matplotlib.pyplot as plt\n",
    "import matplotlib.ticker as mtick\n",
    "\n",
    "import numpy as np\n",
    "import pandas as pd\n",
    "import seaborn as sns\n",
    "import torch.nn as nn\n",
    "import torch.nn.functional as F\n",
    "import torch.optim as optim\n",
    "from torch.utils.data import DataLoader, Dataset\n",
    "\n",
    "from tqdm import trange\n",
    "from sklearn.manifold import TSNE\n",
    "from sklearn.utils import shuffle\n",
    "from sklearn.metrics import confusion_matrix, classification_report"
   ]
  },
  {
   "cell_type": "code",
   "execution_count": 2,
   "outputs": [],
   "source": [
    "class CNN1D(nn.Module):\n",
    "    def __init__(self, number_of_categories):\n",
    "        super(CNN1D, self).__init__()\n",
    "        # convolution layer\n",
    "        # in_channels must be the same as the number of subcarriers, out_channels can be any value\n",
    "        self.conv1d = nn.Conv1d(in_channels=64, out_channels=64, kernel_size=3, stride=1)\n",
    "        self.conv1d_2 = nn.Conv1d(in_channels=64, out_channels=40, kernel_size=5, stride=1)\n",
    "        self.maxpool = nn.MaxPool1d(kernel_size=2)\n",
    "        self.relu = nn.ReLU()\n",
    "\n",
    "        # calculate the in_features\n",
    "        self.fc1 = nn.Linear(in_features=40 * 7, out_features=128)\n",
    "        # self.fc1 = nn.Linear(in_features=120, out_features=90)\n",
    "        #self.fc1 = nn.Linear(in_features=40 * 19, out_features=128)\n",
    "        self.fc2 = nn.Linear(in_features=128, out_features=number_of_categories)\n",
    "\n",
    "    def forward(self, x):\n",
    "        # input tensor size [batch_size, 64 (features), 40 (sequence length)]\n",
    "        x = self.conv1d(x)\n",
    "        # [batch_size, 64 (features), 40 (sequence length)]\n",
    "        x = self.relu(x)\n",
    "        x = self.maxpool(x)\n",
    "        x = self.conv1d_2(x)\n",
    "        # [batch_size, 64 (features), 40 (sequence length)]\n",
    "        x = self.relu(x)\n",
    "        x = self.maxpool(x)\n",
    "        x = x.view(-1, x.shape[1] * x.shape[2])  # Adjust the input size based on the output size after convolutions and pooling\n",
    "        x = self.fc1(x)\n",
    "        x = self.relu(x)\n",
    "        x = self.fc2(x)\n",
    "        \n",
    "        return x"
   ],
   "metadata": {
    "collapsed": false,
    "ExecuteTime": {
     "end_time": "2024-03-12T08:45:56.142195500Z",
     "start_time": "2024-03-12T08:45:56.132194400Z"
    }
   },
   "id": "328841f011159dc2"
  },
  {
   "cell_type": "code",
   "execution_count": 3,
   "outputs": [],
   "source": [
    "class CSIDataset(Dataset):\n",
    "    def __init__(self, X, y):\n",
    "        self.X = torch.tensor(X, dtype=torch.float32)\n",
    "        self.y = torch.tensor(y, dtype=torch.int)\n",
    "    \n",
    "    def __len__(self):\n",
    "        return len(self.X)\n",
    "    \n",
    "    def __getitem__(self, idx):\n",
    "        return self.X[idx], self.y[idx]"
   ],
   "metadata": {
    "collapsed": false,
    "ExecuteTime": {
     "end_time": "2024-03-12T08:45:56.159197700Z",
     "start_time": "2024-03-12T08:45:56.145194600Z"
    }
   },
   "id": "b7ee4e93d8c47e59"
  },
  {
   "cell_type": "code",
   "execution_count": 4,
   "outputs": [],
   "source": [
    "def importData():\n",
    "    X_train, X_val, X_test, y_train, y_val, y_test = [], [], [], [], [], []\n",
    "    for i in range(10):\n",
    "        temp_train = np.load(f'../data/movement_processed_data_denoised_butter/{i}_table_train.npy')\n",
    "        temp_val = np.load(f'../data/movement_processed_data_denoised_butter/{i}_table_val.npy')\n",
    "        temp_test = np.load(f'../data/movement_processed_data_denoised_butter/{i}_table_test.npy')\n",
    "        if i == 0:\n",
    "            X_train = temp_train\n",
    "            X_val = temp_val\n",
    "            X_test = temp_test\n",
    "            y_train = np.array([[i] for _ in range(X_train.shape[0])])\n",
    "            y_val = np.array([[i] for _ in range(X_val.shape[0])])\n",
    "            y_test = np.array([[i] for _ in range(X_test.shape[0])])\n",
    "        else:\n",
    "            X_train = np.append(X_train, temp_train, axis=0)\n",
    "            X_val = np.append(X_val, temp_val, axis=0)\n",
    "            X_test = np.append(X_test, temp_test, axis=0)\n",
    "            y_train = np.append(y_train, np.array([[i] for _ in range(temp_train.shape[0])]), axis=0)\n",
    "            y_val = np.append(y_val, np.array([[i] for _ in range(temp_val.shape[0])]), axis=0)\n",
    "            y_test = np.append(y_test, np.array([[i] for _ in range(temp_test.shape[0])]), axis=0)\n",
    "            \n",
    "    return X_train, X_val, X_test, y_train, y_val, y_test"
   ],
   "metadata": {
    "collapsed": false,
    "ExecuteTime": {
     "end_time": "2024-03-12T08:45:56.192678Z",
     "start_time": "2024-03-12T08:45:56.163226500Z"
    }
   },
   "id": "256be7a9c283785f"
  },
  {
   "cell_type": "code",
   "execution_count": 5,
   "outputs": [],
   "source": [
    "class RunningAverage:\n",
    "    def __init__(self):\n",
    "        self.steps = 0\n",
    "        self.total = 0\n",
    "\n",
    "    def update(self, val):\n",
    "        self.total += val\n",
    "        self.steps += 1\n",
    "\n",
    "    def __call__(self):\n",
    "        return self.total / float(self.steps)\n",
    "\n",
    "def accuracy(outputs, labels):\n",
    "    # outputs (predicted), labels (true)\n",
    "    outputs = np.argmax(outputs.cpu().detach().numpy(), axis=1)\n",
    "    labels = labels.squeeze()\n",
    "    # compare outputs with labels\n",
    "    return np.sum([1 if first == second else 0 for first, second in zip(labels, outputs)]) / float(len(labels))"
   ],
   "metadata": {
    "collapsed": false,
    "ExecuteTime": {
     "end_time": "2024-03-12T08:45:56.193679600Z",
     "start_time": "2024-03-12T08:45:56.174199100Z"
    }
   },
   "id": "6cce562da6c9e367"
  },
  {
   "cell_type": "code",
   "execution_count": 6,
   "outputs": [],
   "source": [
    "def train(model, optimizer, trainLoader, loss_fn, iterations):\n",
    "    model.train()\n",
    "    train_loss = RunningAverage()\n",
    "    train_acc = RunningAverage()\n",
    "    \n",
    "    with trange(iterations) as pbar:\n",
    "        for X_batch, y_batch in trainLoader:\n",
    "            y_batch = y_batch.type(torch.LongTensor).squeeze(1)\n",
    "            logits = model(X_batch)\n",
    "            y_pred = F.log_softmax(logits, dim=1) # use this for accuracy \n",
    "            loss = loss_fn(logits, y_batch)\n",
    "            optimizer.zero_grad()\n",
    "            loss.backward()\n",
    "            optimizer.step()\n",
    "            \n",
    "            train_loss.update(loss)\n",
    "            train_acc.update(accuracy(y_pred, y_batch))\n",
    "            pbar.update(1)\n",
    "            \n",
    "    return train_loss(), train_acc()\n",
    "    \n",
    "def eval(model, valLoader, loss_fn):\n",
    "    model.eval()\n",
    "    eval_loss = RunningAverage()\n",
    "    eval_acc = RunningAverage()\n",
    "    \n",
    "    with torch.no_grad():\n",
    "        for X_batch, y_batch in valLoader:\n",
    "            y_batch = y_batch.type(torch.LongTensor).squeeze(1)\n",
    "            logits = model(X_batch)\n",
    "            y_pred = F.log_softmax(logits, dim=1) # use this for accuracy \n",
    "            loss = loss_fn(logits, y_batch)\n",
    "            \n",
    "            eval_loss.update(loss)\n",
    "            eval_acc.update(accuracy(y_pred, y_batch))\n",
    "            \n",
    "    return eval_loss(), eval_acc()\n",
    "    \n",
    "def test(model, testLoader, test_size):\n",
    "    model.eval()\n",
    "    for X_batch, y_batch in testLoader:\n",
    "        y_batch = y_batch.type(torch.LongTensor).squeeze(1)\n",
    "        logits = model(X_batch)\n",
    "        y_pred = F.log_softmax(logits, dim=1) # use this for accuracy \n",
    "        \n",
    "    print(f\"Overall Accuracy: {accuracy(y_pred, y_batch):.3f}\")\n",
    "\n",
    "    # True positive percentage\n",
    "    percentages = {0: 0, 1: 0, 2: 0, 3: 0, 4: 0, 5: 0, 6: 0, 7: 0, 8: 0, 9: 0}\n",
    "    # outputs (predicted), labels (true)\n",
    "    outputs = np.argmax(y_pred.cpu().detach().numpy(), axis=1)\n",
    "    labels = y_batch.squeeze()\n",
    "    \n",
    "    for i in range(len(outputs)):\n",
    "        if outputs[i] == labels[i]:\n",
    "            percentages[outputs[i]] += 1\n",
    "    \n",
    "    # plot the percentages of correct predictions\n",
    "    y_percent = [(value/(test_size/10))*100 for key, value in percentages.items()]\n",
    "    x_label = [str(key) for key, _ in percentages.items()]\n",
    "    \n",
    "    fig, test = plt.subplots(figsize=(10,6))\n",
    "    test.bar(x_label, y_percent)\n",
    "    test.yaxis.set_major_formatter(mtick.PercentFormatter())\n",
    "    \n",
    "    plt.ylabel(\"Accuracy (%)\")\n",
    "    plt.xlabel(\"Key\")\n",
    "    plt.title(\"Accuracy (%) per key\")\n",
    "    plt.savefig(\"percentage_correct_movement_denoised_butter.png\")\n",
    "    plt.show()\n",
    "    \n",
    "    cm = confusion_matrix(y_true=labels, y_pred=outputs)\n",
    "    cm = np.divide(cm, (test_size/10))\n",
    "    \n",
    "    plt.figure(figsize=(10,6))\n",
    "    sns.heatmap(cm, annot=True, fmt='.2%', cmap='Blues')\n",
    "    plt.ylabel(\"True Label\")\n",
    "    plt.xlabel(\"Predicted Label\")\n",
    "    plt.savefig(\"confusion_matrix_movement_denoised_butter.png\")\n",
    "    plt.show()\n",
    "    \n",
    "    print(f\"Accuracy for each key: {''.join([x + ': ' + str(round(y, 3)) + '% ' for x, y in zip(x_label, y_percent)])}\")\n",
    "    \n",
    "    print(classification_report(y_true=labels, y_pred=outputs, target_names=x_label))"
   ],
   "metadata": {
    "collapsed": false,
    "ExecuteTime": {
     "end_time": "2024-03-12T08:45:56.229194100Z",
     "start_time": "2024-03-12T08:45:56.198680700Z"
    }
   },
   "id": "ed38b6b8a4171fef"
  },
  {
   "cell_type": "code",
   "execution_count": 7,
   "outputs": [],
   "source": [
    "def train_and_eval(model, epochs, optimizer, trainLoader, valLoader, loss_fn, iterations):\n",
    "    # for plotting the loss and accuracy\n",
    "    train_loss_list, train_acc_list, eval_loss_list, eval_acc_list  = [], [], [], []\n",
    "        \n",
    "    for epoch in range(epochs):\n",
    "        train_loss, train_acc = train(model, optimizer, trainLoader, loss_fn, iterations)\n",
    "        eval_loss, eval_acc = eval(model, valLoader, loss_fn)\n",
    "        \n",
    "        train_loss_list.append(train_loss)\n",
    "        train_acc_list.append(train_acc)\n",
    "        eval_loss_list.append(eval_loss)\n",
    "        eval_acc_list.append(eval_acc)\n",
    "        \n",
    "        print(f\"Train: Epoch {epoch}: Loss {train_loss}, Accuracy {train_acc}\")\n",
    "        print(f\"Eval: Epoch {epoch}: Loss {eval_loss}, Accuracy {eval_acc}\")\n",
    "        \n",
    "    return train_loss_list, train_acc_list, eval_loss_list, eval_acc_list\n",
    "        "
   ],
   "metadata": {
    "collapsed": false,
    "ExecuteTime": {
     "end_time": "2024-03-12T08:45:56.239190600Z",
     "start_time": "2024-03-12T08:45:56.225192700Z"
    }
   },
   "id": "b170265a0723c3c6"
  },
  {
   "cell_type": "code",
   "execution_count": 8,
   "outputs": [],
   "source": [
    "def plot_loss_accuracy(train_loss_list, train_acc_list, eval_loss_list, eval_acc_list, epochs):\n",
    "    x = [i for i in range(1, epochs+1)]\n",
    "    \n",
    "    fig, loss = plt.subplots(figsize=(10,6))\n",
    "    loss.plot(x, [trainLoss.item() for trainLoss in train_loss_list], label=\"Training Loss\")\n",
    "    loss.plot(x, [evalLoss.item() for evalLoss in eval_loss_list], label=\"Validation Loss\")\n",
    "    plt.legend()\n",
    "    plt.ylabel(\"Average Loss\")\n",
    "    plt.xlabel(\"Epochs\")\n",
    "    plt.title(\"Average Loss per epoch\")\n",
    "    plt.savefig(\"loss_per_epoch_movement_denoised_butter.png\")\n",
    "    \n",
    "    plt.show()\n",
    "    \n",
    "    fig, acc = plt.subplots(figsize=(10,6))\n",
    "    acc.plot(x, [trainAcc.item() for trainAcc in train_acc_list], label=\"Training Accuracy\")\n",
    "    acc.plot(x, [evalAcc.item() for evalAcc in eval_acc_list], label=\"Validation Accuracy\")\n",
    "    plt.legend()\n",
    "    plt.ylabel(\"Average Accuracy\")\n",
    "    plt.xlabel(\"Epochs\")\n",
    "    plt.title(\"Average Accuracy per epoch\")\n",
    "    plt.savefig(\"acc_per_epoch_movement_denoised_butter.png\")\n",
    "    plt.show()"
   ],
   "metadata": {
    "collapsed": false,
    "ExecuteTime": {
     "end_time": "2024-03-12T08:45:56.249191100Z",
     "start_time": "2024-03-12T08:45:56.241189900Z"
    }
   },
   "id": "f3d37068c00c5ddb"
  },
  {
   "cell_type": "code",
   "execution_count": 9,
   "outputs": [],
   "source": [
    "def print_model_parameters(model):\n",
    "    total_parameters = 0\n",
    "    print(\" \"*20 + \"Model Parameters\" + \" \"*20)\n",
    "    print(\"=\"*57)\n",
    "    print(f\"{'Layer':<25}\" + \"| Parameters\")\n",
    "    print(\"=\"*57)\n",
    "    for name, param in model.named_parameters():\n",
    "        temp = 1\n",
    "        temp_list = []\n",
    "        if param.requires_grad:\n",
    "            print(f\"{name:<25}\", end=\"\")\n",
    "            for i in param.data.shape:\n",
    "                temp *= i\n",
    "                temp_list.append(str(i))\n",
    "            print(\": \", end=\"\")\n",
    "            if len(temp_list) > 1:\n",
    "                print(f\"{' * '.join(temp_list)}\", end=\"\")\n",
    "                print(\" = \" + str(temp))\n",
    "            else:\n",
    "                print(f\"{''.join(temp_list)}\")\n",
    "\n",
    "        total_parameters += temp\n",
    "        \n",
    "    print(\"=\"*57)\n",
    "    print(f\"{'Total parameters':<25}\" + f\": {total_parameters}\")\n",
    "    print(\"=\"*57)"
   ],
   "metadata": {
    "collapsed": false,
    "ExecuteTime": {
     "end_time": "2024-03-12T08:45:56.276211300Z",
     "start_time": "2024-03-12T08:45:56.255190Z"
    }
   },
   "id": "6bc97f1c92cc7859"
  },
  {
   "cell_type": "code",
   "execution_count": 10,
   "outputs": [
    {
     "name": "stderr",
     "output_type": "stream",
     "text": [
      "100%|██████████| 22/22 [00:00<00:00, 91.68it/s]\n"
     ]
    },
    {
     "name": "stdout",
     "output_type": "stream",
     "text": [
      "Train: Epoch 0: Loss 2.32137393951416, Accuracy 0.10369318181818182\n",
      "Eval: Epoch 0: Loss 2.3160574436187744, Accuracy 0.09375\n"
     ]
    },
    {
     "name": "stderr",
     "output_type": "stream",
     "text": [
      "100%|██████████| 22/22 [00:00<00:00, 96.48it/s]\n"
     ]
    },
    {
     "name": "stdout",
     "output_type": "stream",
     "text": [
      "Train: Epoch 1: Loss 2.309176445007324, Accuracy 0.10196834415584416\n",
      "Eval: Epoch 1: Loss 2.312433958053589, Accuracy 0.09375\n"
     ]
    },
    {
     "name": "stderr",
     "output_type": "stream",
     "text": [
      "100%|██████████| 22/22 [00:00<00:00, 98.21it/s] \n"
     ]
    },
    {
     "name": "stdout",
     "output_type": "stream",
     "text": [
      "Train: Epoch 2: Loss 2.3047139644622803, Accuracy 0.10004058441558442\n",
      "Eval: Epoch 2: Loss 2.311933755874634, Accuracy 0.08928571428571429\n"
     ]
    },
    {
     "name": "stderr",
     "output_type": "stream",
     "text": [
      "100%|██████████| 22/22 [00:00<00:00, 94.01it/s]\n"
     ]
    },
    {
     "name": "stdout",
     "output_type": "stream",
     "text": [
      "Train: Epoch 3: Loss 2.303297996520996, Accuracy 0.11079545454545454\n",
      "Eval: Epoch 3: Loss 2.30829119682312, Accuracy 0.11607142857142858\n"
     ]
    },
    {
     "name": "stderr",
     "output_type": "stream",
     "text": [
      "100%|██████████| 22/22 [00:00<00:00, 93.62it/s]\n"
     ]
    },
    {
     "name": "stdout",
     "output_type": "stream",
     "text": [
      "Train: Epoch 4: Loss 2.300544261932373, Accuracy 0.1106939935064935\n",
      "Eval: Epoch 4: Loss 2.3120152950286865, Accuracy 0.078125\n"
     ]
    },
    {
     "name": "stderr",
     "output_type": "stream",
     "text": [
      "100%|██████████| 22/22 [00:00<00:00, 104.27it/s]\n"
     ]
    },
    {
     "name": "stdout",
     "output_type": "stream",
     "text": [
      "Train: Epoch 5: Loss 2.2970457077026367, Accuracy 0.11921672077922078\n",
      "Eval: Epoch 5: Loss 2.309976816177368, Accuracy 0.09821428571428571\n"
     ]
    },
    {
     "name": "stderr",
     "output_type": "stream",
     "text": [
      "100%|██████████| 22/22 [00:00<00:00, 101.85it/s]\n"
     ]
    },
    {
     "name": "stdout",
     "output_type": "stream",
     "text": [
      "Train: Epoch 6: Loss 2.292937994003296, Accuracy 0.12357954545454546\n",
      "Eval: Epoch 6: Loss 2.3070104122161865, Accuracy 0.09821428571428571\n"
     ]
    },
    {
     "name": "stderr",
     "output_type": "stream",
     "text": [
      "100%|██████████| 22/22 [00:00<00:00, 99.55it/s]\n"
     ]
    },
    {
     "name": "stdout",
     "output_type": "stream",
     "text": [
      "Train: Epoch 7: Loss 2.2929840087890625, Accuracy 0.12611607142857142\n",
      "Eval: Epoch 7: Loss 2.318885564804077, Accuracy 0.09821428571428571\n"
     ]
    },
    {
     "name": "stderr",
     "output_type": "stream",
     "text": [
      "100%|██████████| 22/22 [00:00<00:00, 94.42it/s]\n"
     ]
    },
    {
     "name": "stdout",
     "output_type": "stream",
     "text": [
      "Train: Epoch 8: Loss 2.290919303894043, Accuracy 0.1208400974025974\n",
      "Eval: Epoch 8: Loss 2.316915273666382, Accuracy 0.07366071428571429\n"
     ]
    },
    {
     "name": "stderr",
     "output_type": "stream",
     "text": [
      "100%|██████████| 22/22 [00:00<00:00, 88.00it/s]\n"
     ]
    },
    {
     "name": "stdout",
     "output_type": "stream",
     "text": [
      "Train: Epoch 9: Loss 2.289135694503784, Accuracy 0.13058035714285715\n",
      "Eval: Epoch 9: Loss 2.3105106353759766, Accuracy 0.078125\n"
     ]
    },
    {
     "name": "stderr",
     "output_type": "stream",
     "text": [
      "100%|██████████| 22/22 [00:00<00:00, 99.10it/s]\n"
     ]
    },
    {
     "name": "stdout",
     "output_type": "stream",
     "text": [
      "Train: Epoch 10: Loss 2.2876505851745605, Accuracy 0.13088474025974026\n",
      "Eval: Epoch 10: Loss 2.309962034225464, Accuracy 0.10714285714285714\n"
     ]
    },
    {
     "name": "stderr",
     "output_type": "stream",
     "text": [
      "100%|██████████| 22/22 [00:00<00:00, 115.79it/s]\n"
     ]
    },
    {
     "name": "stdout",
     "output_type": "stream",
     "text": [
      "Train: Epoch 11: Loss 2.281094551086426, Accuracy 0.1520900974025974\n",
      "Eval: Epoch 11: Loss 2.3160996437072754, Accuracy 0.12053571428571429\n"
     ]
    },
    {
     "name": "stderr",
     "output_type": "stream",
     "text": [
      "100%|██████████| 22/22 [00:00<00:00, 103.76it/s]\n"
     ]
    },
    {
     "name": "stdout",
     "output_type": "stream",
     "text": [
      "Train: Epoch 12: Loss 2.2811121940612793, Accuracy 0.13869724025974026\n",
      "Eval: Epoch 12: Loss 2.3145763874053955, Accuracy 0.09151785714285714\n"
     ]
    },
    {
     "name": "stderr",
     "output_type": "stream",
     "text": [
      "100%|██████████| 22/22 [00:00<00:00, 102.30it/s]\n"
     ]
    },
    {
     "name": "stdout",
     "output_type": "stream",
     "text": [
      "Train: Epoch 13: Loss 2.281867027282715, Accuracy 0.15036525974025974\n",
      "Eval: Epoch 13: Loss 2.3139865398406982, Accuracy 0.09375\n"
     ]
    },
    {
     "name": "stderr",
     "output_type": "stream",
     "text": [
      "100%|██████████| 22/22 [00:00<00:00, 93.22it/s] \n"
     ]
    },
    {
     "name": "stdout",
     "output_type": "stream",
     "text": [
      "Train: Epoch 14: Loss 2.2748382091522217, Accuracy 0.15046672077922077\n",
      "Eval: Epoch 14: Loss 2.3196520805358887, Accuracy 0.10044642857142858\n"
     ]
    },
    {
     "name": "stderr",
     "output_type": "stream",
     "text": [
      "100%|██████████| 22/22 [00:00<00:00, 104.27it/s]\n"
     ]
    },
    {
     "name": "stdout",
     "output_type": "stream",
     "text": [
      "Train: Epoch 15: Loss 2.2748446464538574, Accuracy 0.1382913961038961\n",
      "Eval: Epoch 15: Loss 2.328233003616333, Accuracy 0.09598214285714286\n"
     ]
    },
    {
     "name": "stderr",
     "output_type": "stream",
     "text": [
      "100%|██████████| 22/22 [00:00<00:00, 99.53it/s] \n"
     ]
    },
    {
     "name": "stdout",
     "output_type": "stream",
     "text": [
      "Train: Epoch 16: Loss 2.2690694332122803, Accuracy 0.15716314935064934\n",
      "Eval: Epoch 16: Loss 2.321643829345703, Accuracy 0.07589285714285714\n"
     ]
    },
    {
     "name": "stderr",
     "output_type": "stream",
     "text": [
      "100%|██████████| 22/22 [00:00<00:00, 97.78it/s] \n"
     ]
    },
    {
     "name": "stdout",
     "output_type": "stream",
     "text": [
      "Train: Epoch 17: Loss 2.2721025943756104, Accuracy 0.14082792207792208\n",
      "Eval: Epoch 17: Loss 2.319628953933716, Accuracy 0.07589285714285714\n"
     ]
    },
    {
     "name": "stderr",
     "output_type": "stream",
     "text": [
      "100%|██████████| 22/22 [00:00<00:00, 96.07it/s]\n"
     ]
    },
    {
     "name": "stdout",
     "output_type": "stream",
     "text": [
      "Train: Epoch 18: Loss 2.266199827194214, Accuracy 0.1624391233766234\n",
      "Eval: Epoch 18: Loss 2.3177971839904785, Accuracy 0.10044642857142858\n"
     ]
    },
    {
     "name": "stderr",
     "output_type": "stream",
     "text": [
      "100%|██████████| 22/22 [00:00<00:00, 105.77it/s]\n"
     ]
    },
    {
     "name": "stdout",
     "output_type": "stream",
     "text": [
      "Train: Epoch 19: Loss 2.261756181716919, Accuracy 0.15117694805194806\n",
      "Eval: Epoch 19: Loss 2.331033945083618, Accuracy 0.10267857142857142\n"
     ]
    },
    {
     "name": "stderr",
     "output_type": "stream",
     "text": [
      "100%|██████████| 22/22 [00:00<00:00, 103.29it/s]\n"
     ]
    },
    {
     "name": "stdout",
     "output_type": "stream",
     "text": [
      "Train: Epoch 20: Loss 2.2664594650268555, Accuracy 0.1377840909090909\n",
      "Eval: Epoch 20: Loss 2.3316121101379395, Accuracy 0.09821428571428571\n"
     ]
    },
    {
     "name": "stderr",
     "output_type": "stream",
     "text": [
      "100%|██████████| 22/22 [00:00<00:00, 98.22it/s]\n"
     ]
    },
    {
     "name": "stdout",
     "output_type": "stream",
     "text": [
      "Train: Epoch 21: Loss 2.259967565536499, Accuracy 0.15269886363636365\n",
      "Eval: Epoch 21: Loss 2.330878973007202, Accuracy 0.07366071428571429\n"
     ]
    },
    {
     "name": "stderr",
     "output_type": "stream",
     "text": [
      "100%|██████████| 22/22 [00:00<00:00, 103.29it/s]\n"
     ]
    },
    {
     "name": "stdout",
     "output_type": "stream",
     "text": [
      "Train: Epoch 22: Loss 2.2482411861419678, Accuracy 0.1593952922077922\n",
      "Eval: Epoch 22: Loss 2.333047389984131, Accuracy 0.08482142857142858\n"
     ]
    },
    {
     "name": "stderr",
     "output_type": "stream",
     "text": [
      "100%|██████████| 22/22 [00:00<00:00, 103.27it/s]\n"
     ]
    },
    {
     "name": "stdout",
     "output_type": "stream",
     "text": [
      "Train: Epoch 23: Loss 2.2498857975006104, Accuracy 0.17268668831168832\n",
      "Eval: Epoch 23: Loss 2.3336243629455566, Accuracy 0.08035714285714286\n"
     ]
    },
    {
     "name": "stderr",
     "output_type": "stream",
     "text": [
      "100%|██████████| 22/22 [00:00<00:00, 92.83it/s]\n"
     ]
    },
    {
     "name": "stdout",
     "output_type": "stream",
     "text": [
      "Train: Epoch 24: Loss 2.24703311920166, Accuracy 0.16700487012987011\n",
      "Eval: Epoch 24: Loss 2.3362181186676025, Accuracy 0.10267857142857142\n"
     ]
    },
    {
     "name": "stderr",
     "output_type": "stream",
     "text": [
      "100%|██████████| 22/22 [00:00<00:00, 102.80it/s]\n"
     ]
    },
    {
     "name": "stdout",
     "output_type": "stream",
     "text": [
      "Train: Epoch 25: Loss 2.247488260269165, Accuracy 0.15188717532467533\n",
      "Eval: Epoch 25: Loss 2.3220419883728027, Accuracy 0.12723214285714285\n"
     ]
    },
    {
     "name": "stderr",
     "output_type": "stream",
     "text": [
      "100%|██████████| 22/22 [00:00<00:00, 102.33it/s]\n"
     ]
    },
    {
     "name": "stdout",
     "output_type": "stream",
     "text": [
      "Train: Epoch 26: Loss 2.2439193725585938, Accuracy 0.16487418831168832\n",
      "Eval: Epoch 26: Loss 2.332819700241089, Accuracy 0.08258928571428571\n"
     ]
    },
    {
     "name": "stderr",
     "output_type": "stream",
     "text": [
      "100%|██████████| 22/22 [00:00<00:00, 92.83it/s]\n"
     ]
    },
    {
     "name": "stdout",
     "output_type": "stream",
     "text": [
      "Train: Epoch 27: Loss 2.2389447689056396, Accuracy 0.16943993506493507\n",
      "Eval: Epoch 27: Loss 2.3521506786346436, Accuracy 0.07366071428571429\n"
     ]
    },
    {
     "name": "stderr",
     "output_type": "stream",
     "text": [
      "100%|██████████| 22/22 [00:00<00:00, 82.40it/s]\n"
     ]
    },
    {
     "name": "stdout",
     "output_type": "stream",
     "text": [
      "Train: Epoch 28: Loss 2.2274911403656006, Accuracy 0.1841517857142857\n",
      "Eval: Epoch 28: Loss 2.3476154804229736, Accuracy 0.078125\n"
     ]
    },
    {
     "name": "stderr",
     "output_type": "stream",
     "text": [
      "100%|██████████| 22/22 [00:00<00:00, 90.91it/s]\n"
     ]
    },
    {
     "name": "stdout",
     "output_type": "stream",
     "text": [
      "Train: Epoch 29: Loss 2.2254438400268555, Accuracy 0.17461444805194806\n",
      "Eval: Epoch 29: Loss 2.3444392681121826, Accuracy 0.08705357142857142\n"
     ]
    },
    {
     "name": "stderr",
     "output_type": "stream",
     "text": [
      "100%|██████████| 22/22 [00:00<00:00, 92.83it/s]\n"
     ]
    },
    {
     "name": "stdout",
     "output_type": "stream",
     "text": [
      "Train: Epoch 30: Loss 2.226912498474121, Accuracy 0.17015016233766234\n",
      "Eval: Epoch 30: Loss 2.3394317626953125, Accuracy 0.09821428571428571\n"
     ]
    },
    {
     "name": "stderr",
     "output_type": "stream",
     "text": [
      "100%|██████████| 22/22 [00:00<00:00, 89.80it/s]\n"
     ]
    },
    {
     "name": "stdout",
     "output_type": "stream",
     "text": [
      "Train: Epoch 31: Loss 2.220684051513672, Accuracy 0.17694805194805194\n",
      "Eval: Epoch 31: Loss 2.342519998550415, Accuracy 0.10267857142857142\n"
     ]
    },
    {
     "name": "stderr",
     "output_type": "stream",
     "text": [
      "100%|██████████| 22/22 [00:00<00:00, 88.00it/s]\n"
     ]
    },
    {
     "name": "stdout",
     "output_type": "stream",
     "text": [
      "Train: Epoch 32: Loss 2.215768575668335, Accuracy 0.1953125\n",
      "Eval: Epoch 32: Loss 2.3599133491516113, Accuracy 0.10044642857142858\n"
     ]
    },
    {
     "name": "stderr",
     "output_type": "stream",
     "text": [
      "100%|██████████| 22/22 [00:00<00:00, 57.74it/s]\n"
     ]
    },
    {
     "name": "stdout",
     "output_type": "stream",
     "text": [
      "Train: Epoch 33: Loss 2.2145442962646484, Accuracy 0.1836444805194805\n",
      "Eval: Epoch 33: Loss 2.370121717453003, Accuracy 0.08928571428571429\n"
     ]
    },
    {
     "name": "stderr",
     "output_type": "stream",
     "text": [
      "100%|██████████| 22/22 [00:00<00:00, 81.78it/s]\n"
     ]
    },
    {
     "name": "stdout",
     "output_type": "stream",
     "text": [
      "Train: Epoch 34: Loss 2.2040693759918213, Accuracy 0.19226866883116883\n",
      "Eval: Epoch 34: Loss 2.351475477218628, Accuracy 0.08705357142857142\n"
     ]
    },
    {
     "name": "stderr",
     "output_type": "stream",
     "text": [
      "100%|██████████| 22/22 [00:00<00:00, 84.29it/s]\n"
     ]
    },
    {
     "name": "stdout",
     "output_type": "stream",
     "text": [
      "Train: Epoch 35: Loss 2.2032504081726074, Accuracy 0.18171672077922077\n",
      "Eval: Epoch 35: Loss 2.3856825828552246, Accuracy 0.06696428571428571\n"
     ]
    },
    {
     "name": "stderr",
     "output_type": "stream",
     "text": [
      "100%|██████████| 22/22 [00:00<00:00, 83.33it/s]\n"
     ]
    },
    {
     "name": "stdout",
     "output_type": "stream",
     "text": [
      "Train: Epoch 36: Loss 2.201521635055542, Accuracy 0.1937905844155844\n",
      "Eval: Epoch 36: Loss 2.36159348487854, Accuracy 0.08482142857142858\n"
     ]
    },
    {
     "name": "stderr",
     "output_type": "stream",
     "text": [
      "100%|██████████| 22/22 [00:00<00:00, 90.53it/s]\n"
     ]
    },
    {
     "name": "stdout",
     "output_type": "stream",
     "text": [
      "Train: Epoch 37: Loss 2.195718765258789, Accuracy 0.19460227272727273\n",
      "Eval: Epoch 37: Loss 2.3694968223571777, Accuracy 0.09598214285714286\n"
     ]
    },
    {
     "name": "stderr",
     "output_type": "stream",
     "text": [
      "100%|██████████| 22/22 [00:00<00:00, 95.24it/s]\n"
     ]
    },
    {
     "name": "stdout",
     "output_type": "stream",
     "text": [
      "Train: Epoch 38: Loss 2.1913366317749023, Accuracy 0.18831168831168832\n",
      "Eval: Epoch 38: Loss 2.3952174186706543, Accuracy 0.09151785714285714\n"
     ]
    },
    {
     "name": "stderr",
     "output_type": "stream",
     "text": [
      "100%|██████████| 22/22 [00:00<00:00, 98.64it/s] \n"
     ]
    },
    {
     "name": "stdout",
     "output_type": "stream",
     "text": [
      "Train: Epoch 39: Loss 2.189185857772827, Accuracy 0.20850243506493504\n",
      "Eval: Epoch 39: Loss 2.363527536392212, Accuracy 0.08928571428571429\n"
     ]
    },
    {
     "name": "stderr",
     "output_type": "stream",
     "text": [
      "100%|██████████| 22/22 [00:00<00:00, 92.83it/s]\n"
     ]
    },
    {
     "name": "stdout",
     "output_type": "stream",
     "text": [
      "Train: Epoch 40: Loss 2.176740884780884, Accuracy 0.1963271103896104\n",
      "Eval: Epoch 40: Loss 2.381303071975708, Accuracy 0.08035714285714286\n"
     ]
    },
    {
     "name": "stderr",
     "output_type": "stream",
     "text": [
      "100%|██████████| 22/22 [00:00<00:00, 90.16it/s]\n"
     ]
    },
    {
     "name": "stdout",
     "output_type": "stream",
     "text": [
      "Train: Epoch 41: Loss 2.172239065170288, Accuracy 0.2036323051948052\n",
      "Eval: Epoch 41: Loss 2.4117486476898193, Accuracy 0.078125\n"
     ]
    },
    {
     "name": "stderr",
     "output_type": "stream",
     "text": [
      "100%|██████████| 22/22 [00:00<00:00, 100.44it/s]\n"
     ]
    },
    {
     "name": "stdout",
     "output_type": "stream",
     "text": [
      "Train: Epoch 42: Loss 2.1704611778259277, Accuracy 0.2074878246753247\n",
      "Eval: Epoch 42: Loss 2.3811378479003906, Accuracy 0.08928571428571429\n"
     ]
    },
    {
     "name": "stderr",
     "output_type": "stream",
     "text": [
      "100%|██████████| 22/22 [00:00<00:00, 100.93it/s]\n"
     ]
    },
    {
     "name": "stdout",
     "output_type": "stream",
     "text": [
      "Train: Epoch 43: Loss 2.165860414505005, Accuracy 0.19673295454545456\n",
      "Eval: Epoch 43: Loss 2.397797107696533, Accuracy 0.06919642857142858\n"
     ]
    },
    {
     "name": "stderr",
     "output_type": "stream",
     "text": [
      "100%|██████████| 22/22 [00:00<00:00, 102.80it/s]\n"
     ]
    },
    {
     "name": "stdout",
     "output_type": "stream",
     "text": [
      "Train: Epoch 44: Loss 2.158961296081543, Accuracy 0.20789366883116883\n",
      "Eval: Epoch 44: Loss 2.383366107940674, Accuracy 0.12276785714285714\n"
     ]
    },
    {
     "name": "stderr",
     "output_type": "stream",
     "text": [
      "100%|██████████| 22/22 [00:00<00:00, 102.33it/s]\n"
     ]
    },
    {
     "name": "stdout",
     "output_type": "stream",
     "text": [
      "Train: Epoch 45: Loss 2.1557741165161133, Accuracy 0.21601055194805197\n",
      "Eval: Epoch 45: Loss 2.4096217155456543, Accuracy 0.10044642857142858\n"
     ]
    },
    {
     "name": "stderr",
     "output_type": "stream",
     "text": [
      "100%|██████████| 22/22 [00:00<00:00, 108.91it/s]\n"
     ]
    },
    {
     "name": "stdout",
     "output_type": "stream",
     "text": [
      "Train: Epoch 46: Loss 2.1488308906555176, Accuracy 0.20444399350649348\n",
      "Eval: Epoch 46: Loss 2.4018027782440186, Accuracy 0.10267857142857142\n"
     ]
    },
    {
     "name": "stderr",
     "output_type": "stream",
     "text": [
      "100%|██████████| 22/22 [00:00<00:00, 94.81it/s]\n"
     ]
    },
    {
     "name": "stdout",
     "output_type": "stream",
     "text": [
      "Train: Epoch 47: Loss 2.148776054382324, Accuracy 0.20556006493506496\n",
      "Eval: Epoch 47: Loss 2.4045541286468506, Accuracy 0.07366071428571429\n"
     ]
    },
    {
     "name": "stderr",
     "output_type": "stream",
     "text": [
      "100%|██████████| 22/22 [00:00<00:00, 98.21it/s] \n"
     ]
    },
    {
     "name": "stdout",
     "output_type": "stream",
     "text": [
      "Train: Epoch 48: Loss 2.1440765857696533, Accuracy 0.21316964285714288\n",
      "Eval: Epoch 48: Loss 2.4439525604248047, Accuracy 0.07366071428571429\n"
     ]
    },
    {
     "name": "stderr",
     "output_type": "stream",
     "text": [
      "100%|██████████| 22/22 [00:00<00:00, 102.33it/s]\n"
     ]
    },
    {
     "name": "stdout",
     "output_type": "stream",
     "text": [
      "Train: Epoch 49: Loss 2.1395881175994873, Accuracy 0.21651785714285712\n",
      "Eval: Epoch 49: Loss 2.4064090251922607, Accuracy 0.08928571428571429\n"
     ]
    },
    {
     "name": "stderr",
     "output_type": "stream",
     "text": [
      "100%|██████████| 22/22 [00:00<00:00, 104.27it/s]\n"
     ]
    },
    {
     "name": "stdout",
     "output_type": "stream",
     "text": [
      "Train: Epoch 50: Loss 2.147097587585449, Accuracy 0.21834415584415587\n",
      "Eval: Epoch 50: Loss 2.3880558013916016, Accuracy 0.10714285714285714\n"
     ]
    },
    {
     "name": "stderr",
     "output_type": "stream",
     "text": [
      "100%|██████████| 22/22 [00:00<00:00, 99.99it/s] \n"
     ]
    },
    {
     "name": "stdout",
     "output_type": "stream",
     "text": [
      "Train: Epoch 51: Loss 2.1367318630218506, Accuracy 0.21103896103896105\n",
      "Eval: Epoch 51: Loss 2.416562557220459, Accuracy 0.08258928571428571\n"
     ]
    },
    {
     "name": "stderr",
     "output_type": "stream",
     "text": [
      "100%|██████████| 22/22 [00:00<00:00, 105.26it/s]\n"
     ]
    },
    {
     "name": "stdout",
     "output_type": "stream",
     "text": [
      "Train: Epoch 52: Loss 2.1191458702087402, Accuracy 0.2403612012987013\n",
      "Eval: Epoch 52: Loss 2.4361655712127686, Accuracy 0.08705357142857142\n"
     ]
    },
    {
     "name": "stderr",
     "output_type": "stream",
     "text": [
      "100%|██████████| 22/22 [00:00<00:00, 99.10it/s]\n"
     ]
    },
    {
     "name": "stdout",
     "output_type": "stream",
     "text": [
      "Train: Epoch 53: Loss 2.116464614868164, Accuracy 0.2224025974025974\n",
      "Eval: Epoch 53: Loss 2.4336044788360596, Accuracy 0.09598214285714286\n"
     ]
    },
    {
     "name": "stderr",
     "output_type": "stream",
     "text": [
      "100%|██████████| 22/22 [00:00<00:00, 92.83it/s]\n"
     ]
    },
    {
     "name": "stdout",
     "output_type": "stream",
     "text": [
      "Train: Epoch 54: Loss 2.1131110191345215, Accuracy 0.24198457792207792\n",
      "Eval: Epoch 54: Loss 2.4848084449768066, Accuracy 0.08035714285714286\n"
     ]
    },
    {
     "name": "stderr",
     "output_type": "stream",
     "text": [
      "100%|██████████| 22/22 [00:00<00:00, 98.22it/s]\n"
     ]
    },
    {
     "name": "stdout",
     "output_type": "stream",
     "text": [
      "Train: Epoch 55: Loss 2.1103286743164062, Accuracy 0.2337662337662338\n",
      "Eval: Epoch 55: Loss 2.4570682048797607, Accuracy 0.07366071428571429\n"
     ]
    },
    {
     "name": "stderr",
     "output_type": "stream",
     "text": [
      "100%|██████████| 22/22 [00:00<00:00, 95.65it/s]\n"
     ]
    },
    {
     "name": "stdout",
     "output_type": "stream",
     "text": [
      "Train: Epoch 56: Loss 2.100034475326538, Accuracy 0.2415787337662338\n",
      "Eval: Epoch 56: Loss 2.4397811889648438, Accuracy 0.10267857142857142\n"
     ]
    },
    {
     "name": "stderr",
     "output_type": "stream",
     "text": [
      "100%|██████████| 22/22 [00:00<00:00, 105.26it/s]\n"
     ]
    },
    {
     "name": "stdout",
     "output_type": "stream",
     "text": [
      "Train: Epoch 57: Loss 2.099276542663574, Accuracy 0.23508522727272727\n",
      "Eval: Epoch 57: Loss 2.430778980255127, Accuracy 0.09151785714285714\n"
     ]
    },
    {
     "name": "stderr",
     "output_type": "stream",
     "text": [
      "100%|██████████| 22/22 [00:00<00:00, 99.10it/s]\n"
     ]
    },
    {
     "name": "stdout",
     "output_type": "stream",
     "text": [
      "Train: Epoch 58: Loss 2.089108467102051, Accuracy 0.2398538961038961\n",
      "Eval: Epoch 58: Loss 2.4391369819641113, Accuracy 0.10714285714285714\n"
     ]
    },
    {
     "name": "stderr",
     "output_type": "stream",
     "text": [
      "100%|██████████| 22/22 [00:00<00:00, 104.50it/s]\n"
     ]
    },
    {
     "name": "stdout",
     "output_type": "stream",
     "text": [
      "Train: Epoch 59: Loss 2.0814526081085205, Accuracy 0.24969561688311687\n",
      "Eval: Epoch 59: Loss 2.4582417011260986, Accuracy 0.09375\n"
     ]
    },
    {
     "name": "stderr",
     "output_type": "stream",
     "text": [
      "100%|██████████| 22/22 [00:00<00:00, 98.22it/s]\n"
     ]
    },
    {
     "name": "stdout",
     "output_type": "stream",
     "text": [
      "Train: Epoch 60: Loss 2.082641839981079, Accuracy 0.2348823051948052\n",
      "Eval: Epoch 60: Loss 2.457395315170288, Accuracy 0.08258928571428571\n"
     ]
    },
    {
     "name": "stderr",
     "output_type": "stream",
     "text": [
      "100%|██████████| 22/22 [00:00<00:00, 97.78it/s]\n"
     ]
    },
    {
     "name": "stdout",
     "output_type": "stream",
     "text": [
      "Train: Epoch 61: Loss 2.073779821395874, Accuracy 0.24624594155844157\n",
      "Eval: Epoch 61: Loss 2.489574670791626, Accuracy 0.09598214285714286\n"
     ]
    },
    {
     "name": "stderr",
     "output_type": "stream",
     "text": [
      "100%|██████████| 22/22 [00:00<00:00, 101.38it/s]\n"
     ]
    },
    {
     "name": "stdout",
     "output_type": "stream",
     "text": [
      "Train: Epoch 62: Loss 2.066394567489624, Accuracy 0.24807224025974026\n",
      "Eval: Epoch 62: Loss 2.478454351425171, Accuracy 0.10267857142857142\n"
     ]
    },
    {
     "name": "stderr",
     "output_type": "stream",
     "text": [
      "100%|██████████| 22/22 [00:00<00:00, 97.35it/s]\n"
     ]
    },
    {
     "name": "stdout",
     "output_type": "stream",
     "text": [
      "Train: Epoch 63: Loss 2.0641794204711914, Accuracy 0.26258116883116883\n",
      "Eval: Epoch 63: Loss 2.494361162185669, Accuracy 0.08705357142857142\n"
     ]
    },
    {
     "name": "stderr",
     "output_type": "stream",
     "text": [
      "100%|██████████| 22/22 [00:00<00:00, 90.54it/s]\n"
     ]
    },
    {
     "name": "stdout",
     "output_type": "stream",
     "text": [
      "Train: Epoch 64: Loss 2.058850049972534, Accuracy 0.26988636363636365\n",
      "Eval: Epoch 64: Loss 2.4666523933410645, Accuracy 0.08705357142857142\n"
     ]
    },
    {
     "name": "stderr",
     "output_type": "stream",
     "text": [
      "100%|██████████| 22/22 [00:00<00:00, 84.92it/s]\n"
     ]
    },
    {
     "name": "stdout",
     "output_type": "stream",
     "text": [
      "Train: Epoch 65: Loss 2.049769163131714, Accuracy 0.2539569805194805\n",
      "Eval: Epoch 65: Loss 2.488117218017578, Accuracy 0.08258928571428571\n"
     ]
    },
    {
     "name": "stderr",
     "output_type": "stream",
     "text": [
      "100%|██████████| 22/22 [00:00<00:00, 92.45it/s]\n"
     ]
    },
    {
     "name": "stdout",
     "output_type": "stream",
     "text": [
      "Train: Epoch 66: Loss 2.039560556411743, Accuracy 0.2646103896103896\n",
      "Eval: Epoch 66: Loss 2.4579474925994873, Accuracy 0.09151785714285714\n"
     ]
    },
    {
     "name": "stderr",
     "output_type": "stream",
     "text": [
      "100%|██████████| 22/22 [00:00<00:00, 90.54it/s]\n"
     ]
    },
    {
     "name": "stdout",
     "output_type": "stream",
     "text": [
      "Train: Epoch 67: Loss 2.039616823196411, Accuracy 0.26603084415584416\n",
      "Eval: Epoch 67: Loss 2.5023269653320312, Accuracy 0.09375\n"
     ]
    },
    {
     "name": "stderr",
     "output_type": "stream",
     "text": [
      "100%|██████████| 22/22 [00:00<00:00, 94.02it/s]\n"
     ]
    },
    {
     "name": "stdout",
     "output_type": "stream",
     "text": [
      "Train: Epoch 68: Loss 2.026451826095581, Accuracy 0.26734983766233766\n",
      "Eval: Epoch 68: Loss 2.506997585296631, Accuracy 0.08482142857142858\n"
     ]
    },
    {
     "name": "stderr",
     "output_type": "stream",
     "text": [
      "100%|██████████| 22/22 [00:00<00:00, 98.21it/s]\n"
     ]
    },
    {
     "name": "stdout",
     "output_type": "stream",
     "text": [
      "Train: Epoch 69: Loss 2.0206804275512695, Accuracy 0.2794237012987013\n",
      "Eval: Epoch 69: Loss 2.479236602783203, Accuracy 0.09821428571428571\n"
     ]
    },
    {
     "name": "stderr",
     "output_type": "stream",
     "text": [
      "100%|██████████| 22/22 [00:00<00:00, 99.55it/s]\n"
     ]
    },
    {
     "name": "stdout",
     "output_type": "stream",
     "text": [
      "Train: Epoch 70: Loss 2.014988660812378, Accuracy 0.27922077922077926\n",
      "Eval: Epoch 70: Loss 2.4943363666534424, Accuracy 0.10044642857142858\n"
     ]
    },
    {
     "name": "stderr",
     "output_type": "stream",
     "text": [
      "100%|██████████| 22/22 [00:00<00:00, 101.38it/s]\n"
     ]
    },
    {
     "name": "stdout",
     "output_type": "stream",
     "text": [
      "Train: Epoch 71: Loss 2.0060510635375977, Accuracy 0.2901785714285714\n",
      "Eval: Epoch 71: Loss 2.5235273838043213, Accuracy 0.10044642857142858\n"
     ]
    },
    {
     "name": "stderr",
     "output_type": "stream",
     "text": [
      "100%|██████████| 22/22 [00:00<00:00, 100.00it/s]\n"
     ]
    },
    {
     "name": "stdout",
     "output_type": "stream",
     "text": [
      "Train: Epoch 72: Loss 2.000563144683838, Accuracy 0.2752637987012987\n",
      "Eval: Epoch 72: Loss 2.5244603157043457, Accuracy 0.08928571428571429\n"
     ]
    },
    {
     "name": "stderr",
     "output_type": "stream",
     "text": [
      "100%|██████████| 22/22 [00:00<00:00, 102.81it/s]\n"
     ]
    },
    {
     "name": "stdout",
     "output_type": "stream",
     "text": [
      "Train: Epoch 73: Loss 1.9933470487594604, Accuracy 0.28997564935064934\n",
      "Eval: Epoch 73: Loss 2.5033352375030518, Accuracy 0.09821428571428571\n"
     ]
    },
    {
     "name": "stderr",
     "output_type": "stream",
     "text": [
      "100%|██████████| 22/22 [00:00<00:00, 93.61it/s]\n"
     ]
    },
    {
     "name": "stdout",
     "output_type": "stream",
     "text": [
      "Train: Epoch 74: Loss 1.9844321012496948, Accuracy 0.29859983766233766\n",
      "Eval: Epoch 74: Loss 2.4973111152648926, Accuracy 0.08705357142857142\n"
     ]
    },
    {
     "name": "stderr",
     "output_type": "stream",
     "text": [
      "100%|██████████| 22/22 [00:00<00:00, 102.33it/s]\n"
     ]
    },
    {
     "name": "stdout",
     "output_type": "stream",
     "text": [
      "Train: Epoch 75: Loss 1.976209282875061, Accuracy 0.3001217532467532\n",
      "Eval: Epoch 75: Loss 2.546924352645874, Accuracy 0.10267857142857142\n"
     ]
    },
    {
     "name": "stderr",
     "output_type": "stream",
     "text": [
      "100%|██████████| 22/22 [00:00<00:00, 103.77it/s]\n"
     ]
    },
    {
     "name": "stdout",
     "output_type": "stream",
     "text": [
      "Train: Epoch 76: Loss 1.966668725013733, Accuracy 0.3038758116883117\n",
      "Eval: Epoch 76: Loss 2.5344181060791016, Accuracy 0.10491071428571429\n"
     ]
    },
    {
     "name": "stderr",
     "output_type": "stream",
     "text": [
      "100%|██████████| 22/22 [00:00<00:00, 104.27it/s]\n"
     ]
    },
    {
     "name": "stdout",
     "output_type": "stream",
     "text": [
      "Train: Epoch 77: Loss 1.9638878107070923, Accuracy 0.3075284090909091\n",
      "Eval: Epoch 77: Loss 2.5088894367218018, Accuracy 0.11607142857142858\n"
     ]
    },
    {
     "name": "stderr",
     "output_type": "stream",
     "text": [
      "100%|██████████| 22/22 [00:00<00:00, 96.87it/s]\n"
     ]
    },
    {
     "name": "stdout",
     "output_type": "stream",
     "text": [
      "Train: Epoch 78: Loss 1.9598453044891357, Accuracy 0.286525974025974\n",
      "Eval: Epoch 78: Loss 2.5665266513824463, Accuracy 0.10044642857142858\n"
     ]
    },
    {
     "name": "stderr",
     "output_type": "stream",
     "text": [
      "100%|██████████| 22/22 [00:00<00:00, 104.26it/s]\n"
     ]
    },
    {
     "name": "stdout",
     "output_type": "stream",
     "text": [
      "Train: Epoch 79: Loss 1.955743670463562, Accuracy 0.3007305194805195\n",
      "Eval: Epoch 79: Loss 2.5359609127044678, Accuracy 0.10267857142857142\n"
     ]
    },
    {
     "data": {
      "text/plain": "<Figure size 1000x600 with 1 Axes>",
      "image/png": "[encoded data removed]"
     },
     "metadata": {},
     "output_type": "display_data"
    },
    {
     "data": {
      "text/plain": "<Figure size 1000x600 with 1 Axes>",
      "image/png": "[encoded data removed]"
     },
     "metadata": {},
     "output_type": "display_data"
    },
    {
     "name": "stdout",
     "output_type": "stream",
     "text": [
      "Overall Accuracy: 0.090\n"
     ]
    },
    {
     "data": {
      "text/plain": "<Figure size 1000x600 with 1 Axes>",
      "image/png": "[encoded data removed]"
     },
     "metadata": {},
     "output_type": "display_data"
    },
    {
     "data": {
      "text/plain": "<Figure size 1000x600 with 2 Axes>",
      "image/png": "[encoded data removed]"
     },
     "metadata": {},
     "output_type": "display_data"
    },
    {
     "name": "stdout",
     "output_type": "stream",
     "text": [
      "Accuracy for each key: 0: 0.0% 1: 5.0% 2: 0.0% 3: 5.0% 4: 20.0% 5: 10.0% 6: 10.0% 7: 10.0% 8: 20.0% 9: 10.0% \n",
      "              precision    recall  f1-score   support\n",
      "\n",
      "           0       0.00      0.00      0.00        20\n",
      "           1       0.05      0.05      0.05        20\n",
      "           2       0.00      0.00      0.00        20\n",
      "           3       0.07      0.05      0.06        20\n",
      "           4       0.12      0.20      0.15        20\n",
      "           5       0.09      0.10      0.09        20\n",
      "           6       0.18      0.10      0.13        20\n",
      "           7       0.06      0.10      0.08        20\n",
      "           8       0.14      0.20      0.16        20\n",
      "           9       0.20      0.10      0.13        20\n",
      "\n",
      "    accuracy                           0.09       200\n",
      "   macro avg       0.09      0.09      0.09       200\n",
      "weighted avg       0.09      0.09      0.09       200\n",
      "\n",
      "                    Model Parameters                    \n",
      "=========================================================\n",
      "Layer                    | Parameters\n",
      "=========================================================\n",
      "conv1d.weight            : 64 * 64 * 3 = 12288\n",
      "conv1d.bias              : 64\n",
      "conv1d_2.weight          : 40 * 64 * 5 = 12800\n",
      "conv1d_2.bias            : 40\n",
      "fc1.weight               : 128 * 280 = 35840\n",
      "fc1.bias                 : 128\n",
      "fc2.weight               : 10 * 128 = 1280\n",
      "fc2.bias                 : 10\n",
      "=========================================================\n",
      "Total parameters         : 62450\n",
      "=========================================================\n"
     ]
    }
   ],
   "source": [
    "def main():\n",
    "    # setup parameters and load data\n",
    "    batch_size = 64\n",
    "    epochs = 80\n",
    "    number_of_categories = 10\n",
    "    \n",
    "    X_train, X_val, X_test, y_train, y_val, y_test = importData()\n",
    "    trainDataset = CSIDataset(X_train, y_train)\n",
    "    valDataset = CSIDataset(X_val, y_val)\n",
    "    \n",
    "    trainLoader = DataLoader(trainDataset, shuffle=True, batch_size=batch_size)\n",
    "    valLoader = DataLoader(valDataset, shuffle=True, batch_size=batch_size)\n",
    "\n",
    "    model = CNN1D(number_of_categories)\n",
    "    optimizer = optim.Adam(model.parameters(), lr=0.0001)\n",
    "    loss = nn.CrossEntropyLoss()\n",
    "\n",
    "    # if (os.path.isfile(\"model.pth\")):\n",
    "    #     model.load_state_dict(torch.load('model.pth'))\n",
    "    # else:\n",
    "    #     train_loss_list, train_acc_list, eval_loss_list, eval_acc_list = train_and_eval(model, epochs, optimizer, trainLoader, valLoader, loss, (X_train.shape[0]//batch_size) + 1)\n",
    "    #     # save the model\n",
    "    #     torch.save(model.state_dict(), 'model.pth')\n",
    "    #     plot_loss_accuracy(train_loss_list, train_acc_list, eval_loss_list, eval_acc_list, epochs)\n",
    "        \n",
    "    train_loss_list, train_acc_list, eval_loss_list, eval_acc_list = train_and_eval(model, epochs, optimizer, trainLoader, valLoader, loss, (X_train.shape[0]//batch_size) + 1)\n",
    "    plot_loss_accuracy(train_loss_list, train_acc_list, eval_loss_list, eval_acc_list, epochs)\n",
    "    torch.save(model.state_dict(), 'model_movement_denoised_butter.pth')\n",
    "        \n",
    "    # Simple check with test dataset\n",
    "    model.eval()\n",
    "    testDataset = CSIDataset(X_test, y_test)\n",
    "    testLoader = DataLoader(testDataset, shuffle=True, batch_size=X_test.shape[0])\n",
    "    test(model, testLoader, X_test.shape[0])\n",
    "    \n",
    "    print_model_parameters(model)\n",
    "    \n",
    "main()"
   ],
   "metadata": {
    "collapsed": false,
    "ExecuteTime": {
     "end_time": "2024-03-12T08:46:21.277569400Z",
     "start_time": "2024-03-12T08:45:56.273207600Z"
    }
   },
   "id": "8f57efd5d9456eb9"
  },
  {
   "cell_type": "code",
   "execution_count": 14,
   "outputs": [
    {
     "name": "stdout",
     "output_type": "stream",
     "text": [
      "========1436_table.npy========\n",
      "Actual: [1, 4, 3, 6] Predicted: [1 8 0 8]\n",
      "Top k predictions: \n",
      "[[1, 8, 0, 8], [3, 2, 3, 0], [4, 9, 5, 4]]\n",
      "========1458_table.npy========\n",
      "Actual: [1, 4, 5, 8] Predicted: [6 2 6 9]\n",
      "Top k predictions: \n",
      "[[6, 2, 6, 9], [0, 9, 9, 2], [3, 3, 8, 6]]\n",
      "========1524_table.npy========\n",
      "Actual: [1, 5, 2, 4] Predicted: [5 2 2 2]\n",
      "Top k predictions: \n",
      "[[5, 2, 2, 2], [9, 6, 7, 8], [8, 3, 8, 1]]\n",
      "========2289_table.npy========\n",
      "Actual: [2, 2, 8, 9] Predicted: [4 3 3 1]\n",
      "Top k predictions: \n",
      "[[4, 3, 3, 1], [7, 8, 0, 6], [8, 6, 2, 2]]\n",
      "========2379_table.npy========\n",
      "Actual: [2, 3, 7, 9] Predicted: [9 4 9 8]\n",
      "Top k predictions: \n",
      "[[9, 4, 9, 8], [6, 8, 8, 2], [4, 6, 6, 7]]\n",
      "========3371_table.npy========\n",
      "Actual: [3, 3, 7, 1] Predicted: [8 8 8 0]\n",
      "Top k predictions: \n",
      "[[8, 8, 8, 0], [0, 1, 5, 8], [7, 0, 0, 9]]\n",
      "========3917_table.npy========\n",
      "Actual: [3, 9, 1, 7] Predicted: [5 8 8 1]\n",
      "Top k predictions: \n",
      "[[5, 8, 8, 1], [2, 9, 1, 7], [8, 6, 3, 9]]\n",
      "========4477_table.npy========\n",
      "Actual: [4, 4, 7, 7] Predicted: [0 8 9 8]\n",
      "Top k predictions: \n",
      "[[0, 8, 9, 8], [2, 0, 8, 0], [4, 3, 6, 6]]\n",
      "========5011_table.npy========\n",
      "Actual: [5, 0, 1, 1] Predicted: [0 6 8 5]\n",
      "Top k predictions: \n",
      "[[0, 6, 8, 5], [8, 8, 0, 9], [6, 9, 3, 6]]\n",
      "========5542_table.npy========\n",
      "Actual: [5, 5, 4, 2] Predicted: [3 8 8 8]\n",
      "Top k predictions: \n",
      "[[3, 8, 8, 8], [2, 2, 0, 0], [8, 3, 1, 3]]\n",
      "========6071_table.npy========\n",
      "Actual: [6, 0, 7, 1] Predicted: [8 6 6 2]\n",
      "Top k predictions: \n",
      "[[8, 6, 6, 2], [9, 8, 9, 6], [2, 9, 0, 3]]\n",
      "========6647_table.npy========\n",
      "Actual: [6, 6, 4, 7] Predicted: [3 8 8 8]\n",
      "Top k predictions: \n",
      "[[3, 8, 8, 8], [6, 4, 6, 9], [9, 7, 9, 7]]\n",
      "========6790_table.npy========\n",
      "Actual: [6, 7, 9, 0] Predicted: [5 6 8 8]\n",
      "Top k predictions: \n",
      "[[5, 6, 8, 8], [8, 3, 7, 0], [9, 8, 6, 9]]\n",
      "========7031_table.npy========\n",
      "Actual: [7, 0, 3, 1] Predicted: [8 8 8 1]\n",
      "Top k predictions: \n",
      "[[8, 8, 8, 1], [7, 6, 1, 8], [9, 9, 7, 2]]\n",
      "========8305_table.npy========\n",
      "Actual: [8, 3, 0, 5] Predicted: [6 2 9 0]\n",
      "Top k predictions: \n",
      "[[6, 2, 9, 0], [0, 8, 6, 2], [8, 6, 1, 6]]\n",
      "========8890_table.npy========\n",
      "Actual: [8, 8, 9, 0] Predicted: [1 1 9 8]\n",
      "Top k predictions: \n",
      "[[1, 1, 9, 8], [8, 8, 6, 9], [9, 5, 3, 6]]\n"
     ]
    }
   ],
   "source": [
    "model = CNN1D(10)\n",
    "model.load_state_dict(torch.load('model_movement.pth'))\n",
    "model.eval()\n",
    "\n",
    "k = 3\n",
    "extension = \".npy\"\n",
    "for file in os.listdir(\"../data/real_env\"):\n",
    "    if file.endswith(extension):\n",
    "        print(\"========\" + file + \"========\")\n",
    "        y_batch = torch.tensor([[int(i)] for i in file.split(\"_\")[0]], dtype=torch.float32)\n",
    "        X_batch = torch.tensor(np.load(\"../data/real_env/\" + file), dtype=torch.float32)\n",
    "        \n",
    "        y_batch = y_batch.type(torch.LongTensor).squeeze(1)\n",
    "        logits = model(X_batch)\n",
    "        y_pred = F.log_softmax(logits, dim=1)\n",
    "        \n",
    "        predicted = np.argmax(y_pred.cpu().detach().numpy(), axis=1)\n",
    "        print(f\"Actual: \" + f\"{y_batch.tolist()}\" + \" Predicted: \" f\"{predicted}\")\n",
    "        values, indices = y_pred.topk(k)\n",
    "        transposed_indx = torch.transpose(indices, 0, 1)\n",
    "        print(f\"Top k predictions: \\n{transposed_indx.tolist()}\")"
   ],
   "metadata": {
    "collapsed": false,
    "ExecuteTime": {
     "end_time": "2024-03-12T08:49:45.377086700Z",
     "start_time": "2024-03-12T08:49:45.148090900Z"
    }
   },
   "id": "946e8f46226a53e8"
  },
  {
   "cell_type": "code",
   "execution_count": null,
   "outputs": [],
   "source": [],
   "metadata": {
    "collapsed": false,
    "ExecuteTime": {
     "start_time": "2024-03-12T08:46:21.914568700Z"
    }
   },
   "id": "2b0f2a6b56914f75"
  }
 ],
 "metadata": {
  "kernelspec": {
   "display_name": "Python 3",
   "language": "python",
   "name": "python3"
  },
  "language_info": {
   "codemirror_mode": {
    "name": "ipython",
    "version": 2
   },
   "file_extension": ".py",
   "mimetype": "text/x-python",
   "name": "python",
   "nbconvert_exporter": "python",
   "pygments_lexer": "ipython2",
   "version": "2.7.6"
  }
 },
 "nbformat": 4,
 "nbformat_minor": 5
}
