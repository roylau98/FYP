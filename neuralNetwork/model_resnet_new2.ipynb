{
 "cells": [
  {
   "cell_type": "code",
   "execution_count": 2,
   "id": "initial_id",
   "metadata": {
    "collapsed": true,
    "ExecuteTime": {
     "end_time": "2024-03-18T11:16:05.832208500Z",
     "start_time": "2024-03-18T11:16:03.042282500Z"
    }
   },
   "outputs": [],
   "source": [
    "import os\n",
    "import torch\n",
    "import matplotlib.pyplot as plt\n",
    "import matplotlib.ticker as mtick\n",
    "\n",
    "import numpy as np\n",
    "import pandas as pd\n",
    "import seaborn as sns\n",
    "import torch.nn as nn\n",
    "import torch.nn.functional as F\n",
    "import torch.optim as optim\n",
    "from torch.utils.data import DataLoader, Dataset\n",
    "\n",
    "from tqdm import trange\n",
    "from sklearn.metrics import confusion_matrix, classification_report"
   ]
  },
  {
   "cell_type": "code",
   "execution_count": 18,
   "outputs": [],
   "source": [
    "# https://www.kaggle.com/code/ivankunyankin/resnet18-from-scratch-using-pytorch#Model\n",
    "class Block(nn.Module):\n",
    "    def __init__(self, in_channels, out_channels, identity_downsample=None, stride=1):\n",
    "        super(Block, self).__init__()\n",
    "        self.conv1 = nn.Conv1d(in_channels, out_channels, kernel_size=3, stride=stride, padding=1)\n",
    "        self.bn1 = nn.BatchNorm1d(out_channels)\n",
    "        self.conv2 = nn.Conv1d(out_channels, out_channels, kernel_size=3, stride=1, padding=1)\n",
    "        self.bn2 = nn.BatchNorm1d(out_channels)\n",
    "        self.relu = nn.ReLU()\n",
    "        self.identity_downsample = identity_downsample\n",
    "        \n",
    "    def forward(self, x):\n",
    "        identity = x\n",
    "        x = self.conv1(x)\n",
    "        x = self.bn1(x)\n",
    "        x = self.relu(x)\n",
    "        x = self.conv2(x)\n",
    "        x = self.bn2(x)\n",
    "        if self.identity_downsample is not None:\n",
    "            identity = self.identity_downsample(identity)\n",
    "        x += identity\n",
    "        x = self.relu(x)\n",
    "        return x\n",
    "    \n",
    "class ResNet_18(nn.Module):\n",
    "    \n",
    "    def __init__(self, image_channels, num_classes):\n",
    "        \n",
    "        super(ResNet_18, self).__init__()\n",
    "        self.in_channels = 64\n",
    "        self.conv1 = nn.Conv1d(image_channels, 64, kernel_size=7, stride=2, padding=3)\n",
    "        self.bn1 = nn.BatchNorm1d(64)\n",
    "        self.relu = nn.ReLU()\n",
    "        self.maxpool = nn.MaxPool1d(kernel_size=3, stride=2, padding=1)\n",
    "        \n",
    "        #resnet layers\n",
    "        self.layer1 = self.__make_layer(64, 64, stride=1)\n",
    "        self.layer2 = self.__make_layer(64, 128, stride=2)\n",
    "        self.layer3 = self.__make_layer(128, 256, stride=2)\n",
    "        self.layer4 = self.__make_layer(256, 512, stride=2)\n",
    "        \n",
    "        self.avgpool = nn.AdaptiveAvgPool1d(1)\n",
    "        self.fc = nn.Linear(512, num_classes)\n",
    "        \n",
    "    def __make_layer(self, in_channels, out_channels, stride):\n",
    "        \n",
    "        identity_downsample = None\n",
    "        if stride != 1:\n",
    "            identity_downsample = self.identity_downsample(in_channels, out_channels)\n",
    "            \n",
    "        return nn.Sequential(\n",
    "            Block(in_channels, out_channels, identity_downsample=identity_downsample, stride=stride), \n",
    "            Block(out_channels, out_channels)\n",
    "        )\n",
    "        \n",
    "    def forward(self, x):\n",
    "        \n",
    "        x = self.conv1(x)\n",
    "        x = self.bn1(x)\n",
    "        x = self.relu(x)\n",
    "        x = self.maxpool(x)\n",
    "        \n",
    "        x = self.layer1(x)\n",
    "        x = self.layer2(x)\n",
    "        x = self.layer3(x)\n",
    "        x = self.layer4(x)\n",
    "        \n",
    "        x = self.avgpool(x)\n",
    "        x = x.view(x.shape[0], -1)\n",
    "        x = self.fc(x)\n",
    "        return x \n",
    "    \n",
    "    def identity_downsample(self, in_channels, out_channels):\n",
    "        \n",
    "        return nn.Sequential(\n",
    "            nn.Conv1d(in_channels, out_channels, kernel_size=3, stride=2, padding=1), \n",
    "            nn.BatchNorm1d(out_channels)\n",
    "        )"
   ],
   "metadata": {
    "collapsed": false,
    "ExecuteTime": {
     "end_time": "2024-03-18T11:18:51.576485400Z",
     "start_time": "2024-03-18T11:18:51.508485200Z"
    }
   },
   "id": "328841f011159dc2"
  },
  {
   "cell_type": "code",
   "execution_count": 21,
   "outputs": [
    {
     "name": "stdout",
     "output_type": "stream",
     "text": [
      "ResNet_18(\n",
      "  (conv1): Conv1d(4, 64, kernel_size=(7,), stride=(2,), padding=(3,))\n",
      "  (bn1): BatchNorm1d(64, eps=1e-05, momentum=0.1, affine=True, track_running_stats=True)\n",
      "  (relu): ReLU()\n",
      "  (maxpool): MaxPool1d(kernel_size=3, stride=2, padding=1, dilation=1, ceil_mode=False)\n",
      "  (layer1): Sequential(\n",
      "    (0): Block(\n",
      "      (conv1): Conv1d(64, 64, kernel_size=(3,), stride=(1,), padding=(1,))\n",
      "      (bn1): BatchNorm1d(64, eps=1e-05, momentum=0.1, affine=True, track_running_stats=True)\n",
      "      (conv2): Conv1d(64, 64, kernel_size=(3,), stride=(1,), padding=(1,))\n",
      "      (bn2): BatchNorm1d(64, eps=1e-05, momentum=0.1, affine=True, track_running_stats=True)\n",
      "      (relu): ReLU()\n",
      "    )\n",
      "    (1): Block(\n",
      "      (conv1): Conv1d(64, 64, kernel_size=(3,), stride=(1,), padding=(1,))\n",
      "      (bn1): BatchNorm1d(64, eps=1e-05, momentum=0.1, affine=True, track_running_stats=True)\n",
      "      (conv2): Conv1d(64, 64, kernel_size=(3,), stride=(1,), padding=(1,))\n",
      "      (bn2): BatchNorm1d(64, eps=1e-05, momentum=0.1, affine=True, track_running_stats=True)\n",
      "      (relu): ReLU()\n",
      "    )\n",
      "  )\n",
      "  (layer2): Sequential(\n",
      "    (0): Block(\n",
      "      (conv1): Conv1d(64, 128, kernel_size=(3,), stride=(2,), padding=(1,))\n",
      "      (bn1): BatchNorm1d(128, eps=1e-05, momentum=0.1, affine=True, track_running_stats=True)\n",
      "      (conv2): Conv1d(128, 128, kernel_size=(3,), stride=(1,), padding=(1,))\n",
      "      (bn2): BatchNorm1d(128, eps=1e-05, momentum=0.1, affine=True, track_running_stats=True)\n",
      "      (relu): ReLU()\n",
      "      (identity_downsample): Sequential(\n",
      "        (0): Conv1d(64, 128, kernel_size=(3,), stride=(2,), padding=(1,))\n",
      "        (1): BatchNorm1d(128, eps=1e-05, momentum=0.1, affine=True, track_running_stats=True)\n",
      "      )\n",
      "    )\n",
      "    (1): Block(\n",
      "      (conv1): Conv1d(128, 128, kernel_size=(3,), stride=(1,), padding=(1,))\n",
      "      (bn1): BatchNorm1d(128, eps=1e-05, momentum=0.1, affine=True, track_running_stats=True)\n",
      "      (conv2): Conv1d(128, 128, kernel_size=(3,), stride=(1,), padding=(1,))\n",
      "      (bn2): BatchNorm1d(128, eps=1e-05, momentum=0.1, affine=True, track_running_stats=True)\n",
      "      (relu): ReLU()\n",
      "    )\n",
      "  )\n",
      "  (layer3): Sequential(\n",
      "    (0): Block(\n",
      "      (conv1): Conv1d(128, 256, kernel_size=(3,), stride=(2,), padding=(1,))\n",
      "      (bn1): BatchNorm1d(256, eps=1e-05, momentum=0.1, affine=True, track_running_stats=True)\n",
      "      (conv2): Conv1d(256, 256, kernel_size=(3,), stride=(1,), padding=(1,))\n",
      "      (bn2): BatchNorm1d(256, eps=1e-05, momentum=0.1, affine=True, track_running_stats=True)\n",
      "      (relu): ReLU()\n",
      "      (identity_downsample): Sequential(\n",
      "        (0): Conv1d(128, 256, kernel_size=(3,), stride=(2,), padding=(1,))\n",
      "        (1): BatchNorm1d(256, eps=1e-05, momentum=0.1, affine=True, track_running_stats=True)\n",
      "      )\n",
      "    )\n",
      "    (1): Block(\n",
      "      (conv1): Conv1d(256, 256, kernel_size=(3,), stride=(1,), padding=(1,))\n",
      "      (bn1): BatchNorm1d(256, eps=1e-05, momentum=0.1, affine=True, track_running_stats=True)\n",
      "      (conv2): Conv1d(256, 256, kernel_size=(3,), stride=(1,), padding=(1,))\n",
      "      (bn2): BatchNorm1d(256, eps=1e-05, momentum=0.1, affine=True, track_running_stats=True)\n",
      "      (relu): ReLU()\n",
      "    )\n",
      "  )\n",
      "  (layer4): Sequential(\n",
      "    (0): Block(\n",
      "      (conv1): Conv1d(256, 512, kernel_size=(3,), stride=(2,), padding=(1,))\n",
      "      (bn1): BatchNorm1d(512, eps=1e-05, momentum=0.1, affine=True, track_running_stats=True)\n",
      "      (conv2): Conv1d(512, 512, kernel_size=(3,), stride=(1,), padding=(1,))\n",
      "      (bn2): BatchNorm1d(512, eps=1e-05, momentum=0.1, affine=True, track_running_stats=True)\n",
      "      (relu): ReLU()\n",
      "      (identity_downsample): Sequential(\n",
      "        (0): Conv1d(256, 512, kernel_size=(3,), stride=(2,), padding=(1,))\n",
      "        (1): BatchNorm1d(512, eps=1e-05, momentum=0.1, affine=True, track_running_stats=True)\n",
      "      )\n",
      "    )\n",
      "    (1): Block(\n",
      "      (conv1): Conv1d(512, 512, kernel_size=(3,), stride=(1,), padding=(1,))\n",
      "      (bn1): BatchNorm1d(512, eps=1e-05, momentum=0.1, affine=True, track_running_stats=True)\n",
      "      (conv2): Conv1d(512, 512, kernel_size=(3,), stride=(1,), padding=(1,))\n",
      "      (bn2): BatchNorm1d(512, eps=1e-05, momentum=0.1, affine=True, track_running_stats=True)\n",
      "      (relu): ReLU()\n",
      "    )\n",
      "  )\n",
      "  (avgpool): AdaptiveAvgPool1d(output_size=1)\n",
      "  (fc): Linear(in_features=512, out_features=10, bias=True)\n",
      ")\n"
     ]
    }
   ],
   "source": [
    "model = ResNet_18(4, 10)\n",
    "print(model)\n"
   ],
   "metadata": {
    "collapsed": false,
    "ExecuteTime": {
     "end_time": "2024-03-18T15:32:29.758952400Z",
     "start_time": "2024-03-18T15:32:29.677604700Z"
    }
   },
   "id": "d1af796729041ea2"
  },
  {
   "cell_type": "code",
   "execution_count": 4,
   "outputs": [],
   "source": [
    "class CSIDataset(Dataset):\n",
    "    def __init__(self, X, y):\n",
    "        self.X = torch.tensor(X, dtype=torch.float32)\n",
    "        self.y = torch.tensor(y, dtype=torch.int)\n",
    "    \n",
    "    def __len__(self):\n",
    "        return len(self.X)\n",
    "    \n",
    "    def __getitem__(self, idx):\n",
    "        return self.X[idx], self.y[idx]"
   ],
   "metadata": {
    "collapsed": false,
    "ExecuteTime": {
     "end_time": "2024-03-18T11:16:09.488357500Z",
     "start_time": "2024-03-18T11:16:09.475359900Z"
    }
   },
   "id": "b7ee4e93d8c47e59"
  },
  {
   "cell_type": "code",
   "execution_count": 7,
   "outputs": [],
   "source": [
    "def importData():\n",
    "    X_train, X_val, X_test, y_train, y_val, y_test = [], [], [], [], [], []\n",
    "    for i in range(10):\n",
    "        temp_train = np.load(f'../data/windtalker_steps/{i}_table_train.npy')\n",
    "        temp_val = np.load(f'../data/windtalker_steps/{i}_table_val.npy')\n",
    "        temp_test = np.load(f'../data/windtalker_steps/{i}_table_test.npy')\n",
    "        if i == 0:\n",
    "            X_train = temp_train\n",
    "            X_val = temp_val\n",
    "            X_test = temp_test\n",
    "            y_train = np.array([[i] for _ in range(X_train.shape[0])])\n",
    "            y_val = np.array([[i] for _ in range(X_val.shape[0])])\n",
    "            y_test = np.array([[i] for _ in range(X_test.shape[0])])\n",
    "        else:\n",
    "            X_train = np.append(X_train, temp_train, axis=0)\n",
    "            X_val = np.append(X_val, temp_val, axis=0)\n",
    "            X_test = np.append(X_test, temp_test, axis=0)\n",
    "            y_train = np.append(y_train, np.array([[i] for _ in range(temp_train.shape[0])]), axis=0)\n",
    "            y_val = np.append(y_val, np.array([[i] for _ in range(temp_val.shape[0])]), axis=0)\n",
    "            y_test = np.append(y_test, np.array([[i] for _ in range(temp_test.shape[0])]), axis=0)\n",
    "            \n",
    "    return X_train, X_val, X_test, y_train, y_val, y_test"
   ],
   "metadata": {
    "collapsed": false,
    "ExecuteTime": {
     "end_time": "2024-03-18T11:16:22.378067700Z",
     "start_time": "2024-03-18T11:16:22.270490900Z"
    }
   },
   "id": "256be7a9c283785f"
  },
  {
   "cell_type": "code",
   "execution_count": 8,
   "outputs": [],
   "source": [
    "class RunningAverage:\n",
    "    def __init__(self):\n",
    "        self.steps = 0\n",
    "        self.total = 0\n",
    "\n",
    "    def update(self, val):\n",
    "        self.total += val\n",
    "        self.steps += 1\n",
    "\n",
    "    def __call__(self):\n",
    "        return self.total / float(self.steps)\n",
    "\n",
    "def accuracy(outputs, labels):\n",
    "    # outputs (predicted), labels (true)\n",
    "    outputs = np.argmax(outputs.cpu().detach().numpy(), axis=1)\n",
    "    labels = labels.squeeze()\n",
    "    # compare outputs with labels\n",
    "    return np.sum([1 if first == second else 0 for first, second in zip(labels, outputs)]) / float(len(labels))"
   ],
   "metadata": {
    "collapsed": false,
    "ExecuteTime": {
     "end_time": "2024-03-18T11:16:23.750061300Z",
     "start_time": "2024-03-18T11:16:23.722014100Z"
    }
   },
   "id": "6cce562da6c9e367"
  },
  {
   "cell_type": "code",
   "execution_count": 9,
   "outputs": [],
   "source": [
    "def train(model, optimizer, trainLoader, loss_fn, iterations):\n",
    "    model.train()\n",
    "    train_loss = RunningAverage()\n",
    "    train_acc = RunningAverage()\n",
    "    \n",
    "    with trange(iterations) as pbar:\n",
    "        for X_batch, y_batch in trainLoader:\n",
    "            y_batch = y_batch.type(torch.LongTensor).squeeze(1)\n",
    "            logits = model(X_batch)\n",
    "            y_pred = F.log_softmax(logits, dim=1) # use this for accuracy \n",
    "            loss = loss_fn(logits, y_batch)\n",
    "            optimizer.zero_grad()\n",
    "            loss.backward()\n",
    "            optimizer.step()\n",
    "            \n",
    "            train_loss.update(loss)\n",
    "            train_acc.update(accuracy(y_pred, y_batch))\n",
    "            pbar.update(1)\n",
    "            \n",
    "    return train_loss(), train_acc()\n",
    "    \n",
    "def eval(model, valLoader, loss_fn):\n",
    "    model.eval()\n",
    "    eval_loss = RunningAverage()\n",
    "    eval_acc = RunningAverage()\n",
    "    \n",
    "    with torch.no_grad():\n",
    "        for X_batch, y_batch in valLoader:\n",
    "            y_batch = y_batch.type(torch.LongTensor).squeeze(1)\n",
    "            logits = model(X_batch)\n",
    "            y_pred = F.log_softmax(logits, dim=1) # use this for accuracy \n",
    "            loss = loss_fn(logits, y_batch)\n",
    "            \n",
    "            eval_loss.update(loss)\n",
    "            eval_acc.update(accuracy(y_pred, y_batch))\n",
    "            \n",
    "    return eval_loss(), eval_acc()\n",
    "    \n",
    "def test(model, testLoader, test_size):\n",
    "    model.eval()\n",
    "    for X_batch, y_batch in testLoader:\n",
    "        y_batch = y_batch.type(torch.LongTensor).squeeze(1)\n",
    "        logits = model(X_batch)\n",
    "        y_pred = F.log_softmax(logits, dim=1) # use this for accuracy \n",
    "        \n",
    "    print(f\"Overall Accuracy: {accuracy(y_pred, y_batch):.3f}\")\n",
    "\n",
    "    # True positive percentage\n",
    "    percentages = {0: 0, 1: 0, 2: 0, 3: 0, 4: 0, 5: 0, 6: 0, 7: 0, 8: 0, 9: 0}\n",
    "    # outputs (predicted), labels (true)\n",
    "    outputs = np.argmax(y_pred.cpu().detach().numpy(), axis=1)\n",
    "    labels = y_batch.squeeze()\n",
    "    \n",
    "    for i in range(len(outputs)):\n",
    "        if outputs[i] == labels[i]:\n",
    "            percentages[outputs[i]] += 1\n",
    "    \n",
    "    # plot the percentages of correct predictions\n",
    "    y_percent = [(value/(test_size/10))*100 for key, value in percentages.items()]\n",
    "    x_label = [str(key) for key, _ in percentages.items()]\n",
    "    \n",
    "    fig, test = plt.subplots(figsize=(10,6))\n",
    "    test.bar(x_label, y_percent)\n",
    "    test.yaxis.set_major_formatter(mtick.PercentFormatter())\n",
    "    \n",
    "    plt.ylabel(\"Accuracy (%)\")\n",
    "    plt.xlabel(\"Key\")\n",
    "    plt.title(\"Accuracy (%) per key\")\n",
    "    plt.savefig(\"percentage_correct_denoised_butter_resnet.png\", bbox_inches='tight')\n",
    "    plt.show()\n",
    "    \n",
    "    cm = confusion_matrix(y_true=labels, y_pred=outputs)\n",
    "    cm = np.divide(cm, (test_size/10))\n",
    "    \n",
    "    plt.figure(figsize=(10,6))\n",
    "    sns.heatmap(cm, annot=True, fmt='.2%', cmap='Blues')\n",
    "    plt.ylabel(\"True Label\")\n",
    "    plt.xlabel(\"Predicted Label\")\n",
    "    plt.savefig(\"confusion_matrix_denoised_butter_resnet.png\", bbox_inches='tight')\n",
    "    plt.show()\n",
    "    \n",
    "    print(f\"Accuracy for each key: {''.join([x + ': ' + str(round(y, 3)) + '% ' for x, y in zip(x_label, y_percent)])}\")\n",
    "    \n",
    "    print(classification_report(y_true=labels, y_pred=outputs, target_names=x_label))"
   ],
   "metadata": {
    "collapsed": false,
    "ExecuteTime": {
     "end_time": "2024-03-18T11:16:24.875541100Z",
     "start_time": "2024-03-18T11:16:24.836540300Z"
    }
   },
   "id": "ed38b6b8a4171fef"
  },
  {
   "cell_type": "code",
   "execution_count": 10,
   "outputs": [],
   "source": [
    "def train_and_eval(model, epochs, optimizer, trainLoader, valLoader, loss_fn, iterations):\n",
    "    # for plotting the loss and accuracy\n",
    "    train_loss_list, train_acc_list, eval_loss_list, eval_acc_list  = [], [], [], []\n",
    "        \n",
    "    for epoch in range(epochs):\n",
    "        train_loss, train_acc = train(model, optimizer, trainLoader, loss_fn, iterations)\n",
    "        eval_loss, eval_acc = eval(model, valLoader, loss_fn)\n",
    "        \n",
    "        train_loss_list.append(train_loss)\n",
    "        train_acc_list.append(train_acc)\n",
    "        eval_loss_list.append(eval_loss)\n",
    "        eval_acc_list.append(eval_acc)\n",
    "        \n",
    "        print(f\"Train: Epoch {epoch}: Loss {train_loss}, Accuracy {train_acc}\")\n",
    "        print(f\"Eval: Epoch {epoch}: Loss {eval_loss}, Accuracy {eval_acc}\")\n",
    "        \n",
    "    return train_loss_list, train_acc_list, eval_loss_list, eval_acc_list\n",
    "        "
   ],
   "metadata": {
    "collapsed": false,
    "ExecuteTime": {
     "end_time": "2024-03-18T11:16:25.885574800Z",
     "start_time": "2024-03-18T11:16:25.868542400Z"
    }
   },
   "id": "b170265a0723c3c6"
  },
  {
   "cell_type": "code",
   "execution_count": 11,
   "outputs": [],
   "source": [
    "def plot_loss_accuracy(train_loss_list, train_acc_list, eval_loss_list, eval_acc_list, epochs):\n",
    "    x = [i for i in range(1, epochs+1)]\n",
    "    \n",
    "    fig, loss = plt.subplots(figsize=(10,6))\n",
    "    loss.plot(x, [trainLoss.item() for trainLoss in train_loss_list], label=\"Training Loss\")\n",
    "    loss.plot(x, [evalLoss.item() for evalLoss in eval_loss_list], label=\"Validation Loss\")\n",
    "    plt.legend()\n",
    "    plt.ylabel(\"Average Loss\")\n",
    "    plt.xlabel(\"Epochs\")\n",
    "    plt.title(\"Average Loss per epoch\")\n",
    "    plt.savefig(\"loss_per_epoch_denoised_butter_resnet.png\", bbox_inches='tight')\n",
    "    \n",
    "    plt.show()\n",
    "    \n",
    "    fig, acc = plt.subplots(figsize=(10,6))\n",
    "    acc.plot(x, [trainAcc.item() for trainAcc in train_acc_list], label=\"Training Accuracy\")\n",
    "    acc.plot(x, [evalAcc.item() for evalAcc in eval_acc_list], label=\"Validation Accuracy\")\n",
    "    plt.legend()\n",
    "    plt.ylabel(\"Average Accuracy\")\n",
    "    plt.xlabel(\"Epochs\")\n",
    "    plt.title(\"Average Accuracy per epoch\")\n",
    "    plt.savefig(\"acc_per_epoch_denoised_butter_resnet.png\", bbox_inches='tight')\n",
    "    plt.show()"
   ],
   "metadata": {
    "collapsed": false,
    "ExecuteTime": {
     "end_time": "2024-03-18T11:16:27.047418900Z",
     "start_time": "2024-03-18T11:16:26.964361600Z"
    }
   },
   "id": "f3d37068c00c5ddb"
  },
  {
   "cell_type": "code",
   "execution_count": 12,
   "outputs": [],
   "source": [
    "def print_model_parameters(model):\n",
    "    total_parameters = 0\n",
    "    print(\" \"*20 + \"Model Parameters\" + \" \"*20)\n",
    "    print(\"=\"*57)\n",
    "    print(f\"{'Layer':<25}\" + \"| Parameters\")\n",
    "    print(\"=\"*57)\n",
    "    for name, param in model.named_parameters():\n",
    "        temp = 1\n",
    "        temp_list = []\n",
    "        if param.requires_grad:\n",
    "            print(f\"{name:<25}\", end=\"\")\n",
    "            for i in param.data.shape:\n",
    "                temp *= i\n",
    "                temp_list.append(str(i))\n",
    "            print(\": \", end=\"\")\n",
    "            if len(temp_list) > 1:\n",
    "                print(f\"{' * '.join(temp_list)}\", end=\"\")\n",
    "                print(\" = \" + str(temp))\n",
    "            else:\n",
    "                print(f\"{''.join(temp_list)}\")\n",
    "\n",
    "        total_parameters += temp\n",
    "        \n",
    "    print(\"=\"*57)\n",
    "    print(f\"{'Total parameters':<25}\" + f\": {total_parameters}\")\n",
    "    print(\"=\"*57)"
   ],
   "metadata": {
    "collapsed": false,
    "ExecuteTime": {
     "end_time": "2024-03-18T11:16:28.127988Z",
     "start_time": "2024-03-18T11:16:28.102990500Z"
    }
   },
   "id": "6bc97f1c92cc7859"
  },
  {
   "cell_type": "code",
   "execution_count": 20,
   "outputs": [
    {
     "name": "stderr",
     "output_type": "stream",
     "text": [
      "100%|██████████| 110/110 [00:13<00:00,  7.94it/s]\n"
     ]
    },
    {
     "name": "stdout",
     "output_type": "stream",
     "text": [
      "Train: Epoch 0: Loss 2.4097771644592285, Accuracy 0.09905303030303031\n",
      "Eval: Epoch 0: Loss 2.40004563331604, Accuracy 0.1015625\n"
     ]
    },
    {
     "name": "stderr",
     "output_type": "stream",
     "text": [
      "100%|██████████| 110/110 [00:18<00:00,  6.09it/s]\n"
     ]
    },
    {
     "name": "stdout",
     "output_type": "stream",
     "text": [
      "Train: Epoch 1: Loss 2.058457851409912, Accuracy 0.27651515151515155\n",
      "Eval: Epoch 1: Loss 2.487967014312744, Accuracy 0.1162109375\n"
     ]
    },
    {
     "name": "stderr",
     "output_type": "stream",
     "text": [
      "100%|██████████| 110/110 [00:12<00:00,  8.50it/s]\n"
     ]
    },
    {
     "name": "stdout",
     "output_type": "stream",
     "text": [
      "Train: Epoch 2: Loss 1.6949542760849, Accuracy 0.44289772727272725\n",
      "Eval: Epoch 2: Loss 2.7362685203552246, Accuracy 0.103515625\n"
     ]
    },
    {
     "name": "stderr",
     "output_type": "stream",
     "text": [
      "100%|██████████| 110/110 [00:12<00:00,  8.82it/s]\n"
     ]
    },
    {
     "name": "stdout",
     "output_type": "stream",
     "text": [
      "Train: Epoch 3: Loss 1.1772997379302979, Accuracy 0.6259469696969697\n",
      "Eval: Epoch 3: Loss 3.215904951095581, Accuracy 0.0966796875\n"
     ]
    },
    {
     "name": "stderr",
     "output_type": "stream",
     "text": [
      "100%|██████████| 110/110 [00:12<00:00,  8.55it/s]\n"
     ]
    },
    {
     "name": "stdout",
     "output_type": "stream",
     "text": [
      "Train: Epoch 4: Loss 0.7445563077926636, Accuracy 0.7736742424242424\n",
      "Eval: Epoch 4: Loss 3.545886754989624, Accuracy 0.1123046875\n"
     ]
    },
    {
     "name": "stderr",
     "output_type": "stream",
     "text": [
      "100%|██████████| 110/110 [00:12<00:00,  8.75it/s]\n"
     ]
    },
    {
     "name": "stdout",
     "output_type": "stream",
     "text": [
      "Train: Epoch 5: Loss 0.43291234970092773, Accuracy 0.8793560606060606\n",
      "Eval: Epoch 5: Loss 3.9006776809692383, Accuracy 0.1015625\n"
     ]
    },
    {
     "name": "stderr",
     "output_type": "stream",
     "text": [
      "100%|██████████| 110/110 [00:11<00:00,  9.19it/s]\n"
     ]
    },
    {
     "name": "stdout",
     "output_type": "stream",
     "text": [
      "Train: Epoch 6: Loss 0.3026227056980133, Accuracy 0.9126893939393939\n",
      "Eval: Epoch 6: Loss 4.10198450088501, Accuracy 0.0810546875\n"
     ]
    },
    {
     "name": "stderr",
     "output_type": "stream",
     "text": [
      "100%|██████████| 110/110 [00:12<00:00,  8.97it/s]\n"
     ]
    },
    {
     "name": "stdout",
     "output_type": "stream",
     "text": [
      "Train: Epoch 7: Loss 0.25653600692749023, Accuracy 0.9277462121212121\n",
      "Eval: Epoch 7: Loss 4.12247371673584, Accuracy 0.09375\n"
     ]
    },
    {
     "name": "stderr",
     "output_type": "stream",
     "text": [
      "100%|██████████| 110/110 [00:12<00:00,  9.11it/s]\n"
     ]
    },
    {
     "name": "stdout",
     "output_type": "stream",
     "text": [
      "Train: Epoch 8: Loss 0.22699865698814392, Accuracy 0.9339962121212121\n",
      "Eval: Epoch 8: Loss 4.479313850402832, Accuracy 0.0908203125\n"
     ]
    },
    {
     "name": "stderr",
     "output_type": "stream",
     "text": [
      "100%|██████████| 110/110 [00:12<00:00,  9.07it/s]\n"
     ]
    },
    {
     "name": "stdout",
     "output_type": "stream",
     "text": [
      "Train: Epoch 9: Loss 0.19413459300994873, Accuracy 0.9464015151515152\n",
      "Eval: Epoch 9: Loss 4.514860153198242, Accuracy 0.0849609375\n"
     ]
    },
    {
     "name": "stderr",
     "output_type": "stream",
     "text": [
      "100%|██████████| 110/110 [00:12<00:00,  9.00it/s]\n"
     ]
    },
    {
     "name": "stdout",
     "output_type": "stream",
     "text": [
      "Train: Epoch 10: Loss 0.1587381660938263, Accuracy 0.953219696969697\n",
      "Eval: Epoch 10: Loss 4.589552879333496, Accuracy 0.1044921875\n"
     ]
    },
    {
     "name": "stderr",
     "output_type": "stream",
     "text": [
      "100%|██████████| 110/110 [00:12<00:00,  9.16it/s]\n"
     ]
    },
    {
     "name": "stdout",
     "output_type": "stream",
     "text": [
      "Train: Epoch 11: Loss 0.14109858870506287, Accuracy 0.9603219696969697\n",
      "Eval: Epoch 11: Loss 4.731523513793945, Accuracy 0.095703125\n"
     ]
    },
    {
     "name": "stderr",
     "output_type": "stream",
     "text": [
      "100%|██████████| 110/110 [00:12<00:00,  9.06it/s]\n"
     ]
    },
    {
     "name": "stdout",
     "output_type": "stream",
     "text": [
      "Train: Epoch 12: Loss 0.13943085074424744, Accuracy 0.9581439393939394\n",
      "Eval: Epoch 12: Loss 4.978394031524658, Accuracy 0.1005859375\n"
     ]
    },
    {
     "name": "stderr",
     "output_type": "stream",
     "text": [
      "100%|██████████| 110/110 [00:12<00:00,  9.05it/s]\n"
     ]
    },
    {
     "name": "stdout",
     "output_type": "stream",
     "text": [
      "Train: Epoch 13: Loss 0.16756300628185272, Accuracy 0.9497159090909091\n",
      "Eval: Epoch 13: Loss 4.951968193054199, Accuracy 0.0927734375\n"
     ]
    },
    {
     "name": "stderr",
     "output_type": "stream",
     "text": [
      "100%|██████████| 110/110 [00:12<00:00,  8.71it/s]\n"
     ]
    },
    {
     "name": "stdout",
     "output_type": "stream",
     "text": [
      "Train: Epoch 14: Loss 0.22537195682525635, Accuracy 0.9231060606060606\n",
      "Eval: Epoch 14: Loss 4.954195976257324, Accuracy 0.1064453125\n"
     ]
    },
    {
     "name": "stderr",
     "output_type": "stream",
     "text": [
      "100%|██████████| 110/110 [00:12<00:00,  8.52it/s]\n"
     ]
    },
    {
     "name": "stdout",
     "output_type": "stream",
     "text": [
      "Train: Epoch 15: Loss 0.1951444149017334, Accuracy 0.940625\n",
      "Eval: Epoch 15: Loss 5.003294467926025, Accuracy 0.103515625\n"
     ]
    },
    {
     "name": "stderr",
     "output_type": "stream",
     "text": [
      "100%|██████████| 110/110 [00:12<00:00,  8.50it/s]\n"
     ]
    },
    {
     "name": "stdout",
     "output_type": "stream",
     "text": [
      "Train: Epoch 16: Loss 0.16171279549598694, Accuracy 0.9457386363636363\n",
      "Eval: Epoch 16: Loss 5.219823360443115, Accuracy 0.10546875\n"
     ]
    },
    {
     "name": "stderr",
     "output_type": "stream",
     "text": [
      "100%|██████████| 110/110 [00:12<00:00,  8.64it/s]\n"
     ]
    },
    {
     "name": "stdout",
     "output_type": "stream",
     "text": [
      "Train: Epoch 17: Loss 0.1537051796913147, Accuracy 0.949905303030303\n",
      "Eval: Epoch 17: Loss 5.202880382537842, Accuracy 0.09375\n"
     ]
    },
    {
     "name": "stderr",
     "output_type": "stream",
     "text": [
      "100%|██████████| 110/110 [00:13<00:00,  8.37it/s]\n"
     ]
    },
    {
     "name": "stdout",
     "output_type": "stream",
     "text": [
      "Train: Epoch 18: Loss 0.14919497072696686, Accuracy 0.9538825757575757\n",
      "Eval: Epoch 18: Loss 5.282865047454834, Accuracy 0.099609375\n"
     ]
    },
    {
     "name": "stderr",
     "output_type": "stream",
     "text": [
      "100%|██████████| 110/110 [00:13<00:00,  8.45it/s]\n"
     ]
    },
    {
     "name": "stdout",
     "output_type": "stream",
     "text": [
      "Train: Epoch 19: Loss 0.12805400788784027, Accuracy 0.9609848484848484\n",
      "Eval: Epoch 19: Loss 5.314141750335693, Accuracy 0.1005859375\n"
     ]
    },
    {
     "name": "stderr",
     "output_type": "stream",
     "text": [
      "100%|██████████| 110/110 [00:13<00:00,  8.34it/s]\n"
     ]
    },
    {
     "name": "stdout",
     "output_type": "stream",
     "text": [
      "Train: Epoch 20: Loss 0.08764853328466415, Accuracy 0.9711174242424243\n",
      "Eval: Epoch 20: Loss 5.34459114074707, Accuracy 0.1044921875\n"
     ]
    },
    {
     "name": "stderr",
     "output_type": "stream",
     "text": [
      "100%|██████████| 110/110 [00:12<00:00,  8.54it/s]\n"
     ]
    },
    {
     "name": "stdout",
     "output_type": "stream",
     "text": [
      "Train: Epoch 21: Loss 0.07812079787254333, Accuracy 0.9765151515151516\n",
      "Eval: Epoch 21: Loss 5.324421405792236, Accuracy 0.09765625\n"
     ]
    },
    {
     "name": "stderr",
     "output_type": "stream",
     "text": [
      "100%|██████████| 110/110 [00:13<00:00,  8.34it/s]\n"
     ]
    },
    {
     "name": "stdout",
     "output_type": "stream",
     "text": [
      "Train: Epoch 22: Loss 0.06051744893193245, Accuracy 0.9839015151515152\n",
      "Eval: Epoch 22: Loss 5.312020301818848, Accuracy 0.107421875\n"
     ]
    },
    {
     "name": "stderr",
     "output_type": "stream",
     "text": [
      "100%|██████████| 110/110 [00:12<00:00,  8.54it/s]\n"
     ]
    },
    {
     "name": "stdout",
     "output_type": "stream",
     "text": [
      "Train: Epoch 23: Loss 0.0498557947576046, Accuracy 0.9854166666666666\n",
      "Eval: Epoch 23: Loss 5.495635986328125, Accuracy 0.09375\n"
     ]
    },
    {
     "name": "stderr",
     "output_type": "stream",
     "text": [
      "100%|██████████| 110/110 [00:12<00:00,  8.47it/s]\n"
     ]
    },
    {
     "name": "stdout",
     "output_type": "stream",
     "text": [
      "Train: Epoch 24: Loss 0.06833840906620026, Accuracy 0.9765151515151516\n",
      "Eval: Epoch 24: Loss 5.548907279968262, Accuracy 0.1083984375\n"
     ]
    },
    {
     "name": "stderr",
     "output_type": "stream",
     "text": [
      "100%|██████████| 110/110 [00:13<00:00,  8.45it/s]\n"
     ]
    },
    {
     "name": "stdout",
     "output_type": "stream",
     "text": [
      "Train: Epoch 25: Loss 0.07426506280899048, Accuracy 0.9767992424242424\n",
      "Eval: Epoch 25: Loss 5.847596645355225, Accuracy 0.08984375\n"
     ]
    },
    {
     "name": "stderr",
     "output_type": "stream",
     "text": [
      "100%|██████████| 110/110 [00:13<00:00,  8.38it/s]\n"
     ]
    },
    {
     "name": "stdout",
     "output_type": "stream",
     "text": [
      "Train: Epoch 26: Loss 0.0799880251288414, Accuracy 0.9743371212121211\n",
      "Eval: Epoch 26: Loss 5.864375114440918, Accuracy 0.0869140625\n"
     ]
    },
    {
     "name": "stderr",
     "output_type": "stream",
     "text": [
      "100%|██████████| 110/110 [00:13<00:00,  8.32it/s]\n"
     ]
    },
    {
     "name": "stdout",
     "output_type": "stream",
     "text": [
      "Train: Epoch 27: Loss 0.10096157342195511, Accuracy 0.9678977272727273\n",
      "Eval: Epoch 27: Loss 5.924046516418457, Accuracy 0.0966796875\n"
     ]
    },
    {
     "name": "stderr",
     "output_type": "stream",
     "text": [
      "100%|██████████| 110/110 [00:13<00:00,  8.42it/s]\n"
     ]
    },
    {
     "name": "stdout",
     "output_type": "stream",
     "text": [
      "Train: Epoch 28: Loss 0.2465856522321701, Accuracy 0.9178030303030302\n",
      "Eval: Epoch 28: Loss 5.884312629699707, Accuracy 0.0830078125\n"
     ]
    },
    {
     "name": "stderr",
     "output_type": "stream",
     "text": [
      "100%|██████████| 110/110 [00:13<00:00,  8.36it/s]\n"
     ]
    },
    {
     "name": "stdout",
     "output_type": "stream",
     "text": [
      "Train: Epoch 29: Loss 0.22962208092212677, Accuracy 0.9233901515151516\n",
      "Eval: Epoch 29: Loss 5.717959403991699, Accuracy 0.107421875\n"
     ]
    },
    {
     "name": "stderr",
     "output_type": "stream",
     "text": [
      "100%|██████████| 110/110 [00:13<00:00,  8.43it/s]\n"
     ]
    },
    {
     "name": "stdout",
     "output_type": "stream",
     "text": [
      "Train: Epoch 30: Loss 0.13502123951911926, Accuracy 0.956344696969697\n",
      "Eval: Epoch 30: Loss 5.649845600128174, Accuracy 0.08984375\n"
     ]
    },
    {
     "name": "stderr",
     "output_type": "stream",
     "text": [
      "100%|██████████| 110/110 [00:16<00:00,  6.58it/s]\n"
     ]
    },
    {
     "name": "stdout",
     "output_type": "stream",
     "text": [
      "Train: Epoch 31: Loss 0.09385262429714203, Accuracy 0.9723484848484848\n",
      "Eval: Epoch 31: Loss 5.767525672912598, Accuracy 0.0810546875\n"
     ]
    },
    {
     "name": "stderr",
     "output_type": "stream",
     "text": [
      "100%|██████████| 110/110 [00:13<00:00,  8.00it/s]\n"
     ]
    },
    {
     "name": "stdout",
     "output_type": "stream",
     "text": [
      "Train: Epoch 32: Loss 0.09230455011129379, Accuracy 0.9722537878787879\n",
      "Eval: Epoch 32: Loss 5.748433589935303, Accuracy 0.111328125\n"
     ]
    },
    {
     "name": "stderr",
     "output_type": "stream",
     "text": [
      "100%|██████████| 110/110 [00:13<00:00,  7.98it/s]\n"
     ]
    },
    {
     "name": "stdout",
     "output_type": "stream",
     "text": [
      "Train: Epoch 33: Loss 0.04698861762881279, Accuracy 0.9865530303030302\n",
      "Eval: Epoch 33: Loss 5.80410623550415, Accuracy 0.0947265625\n"
     ]
    },
    {
     "name": "stderr",
     "output_type": "stream",
     "text": [
      "100%|██████████| 110/110 [00:13<00:00,  8.06it/s]\n"
     ]
    },
    {
     "name": "stdout",
     "output_type": "stream",
     "text": [
      "Train: Epoch 34: Loss 0.04761577770113945, Accuracy 0.9877840909090909\n",
      "Eval: Epoch 34: Loss 5.7850661277771, Accuracy 0.0966796875\n"
     ]
    },
    {
     "name": "stderr",
     "output_type": "stream",
     "text": [
      "100%|██████████| 110/110 [00:13<00:00,  7.97it/s]\n"
     ]
    },
    {
     "name": "stdout",
     "output_type": "stream",
     "text": [
      "Train: Epoch 35: Loss 0.052778035402297974, Accuracy 0.9815340909090909\n",
      "Eval: Epoch 35: Loss 5.844953536987305, Accuracy 0.0830078125\n"
     ]
    },
    {
     "name": "stderr",
     "output_type": "stream",
     "text": [
      "100%|██████████| 110/110 [00:12<00:00,  8.51it/s]\n"
     ]
    },
    {
     "name": "stdout",
     "output_type": "stream",
     "text": [
      "Train: Epoch 36: Loss 0.03608787804841995, Accuracy 0.9897727272727272\n",
      "Eval: Epoch 36: Loss 5.972491264343262, Accuracy 0.0830078125\n"
     ]
    },
    {
     "name": "stderr",
     "output_type": "stream",
     "text": [
      "100%|██████████| 110/110 [00:12<00:00,  8.72it/s]\n"
     ]
    },
    {
     "name": "stdout",
     "output_type": "stream",
     "text": [
      "Train: Epoch 37: Loss 0.03876466304063797, Accuracy 0.9875\n",
      "Eval: Epoch 37: Loss 6.0875468254089355, Accuracy 0.0849609375\n"
     ]
    },
    {
     "name": "stderr",
     "output_type": "stream",
     "text": [
      "100%|██████████| 110/110 [00:12<00:00,  8.61it/s]\n"
     ]
    },
    {
     "name": "stdout",
     "output_type": "stream",
     "text": [
      "Train: Epoch 38: Loss 0.04786507040262222, Accuracy 0.9850378787878789\n",
      "Eval: Epoch 38: Loss 6.157243251800537, Accuracy 0.076171875\n"
     ]
    },
    {
     "name": "stderr",
     "output_type": "stream",
     "text": [
      "100%|██████████| 110/110 [00:13<00:00,  8.15it/s]\n"
     ]
    },
    {
     "name": "stdout",
     "output_type": "stream",
     "text": [
      "Train: Epoch 39: Loss 0.11489164084196091, Accuracy 0.9654356060606061\n",
      "Eval: Epoch 39: Loss 6.3135151863098145, Accuracy 0.0771484375\n"
     ]
    },
    {
     "name": "stderr",
     "output_type": "stream",
     "text": [
      "100%|██████████| 110/110 [00:13<00:00,  8.31it/s]\n"
     ]
    },
    {
     "name": "stdout",
     "output_type": "stream",
     "text": [
      "Train: Epoch 40: Loss 0.1544908732175827, Accuracy 0.9502840909090909\n",
      "Eval: Epoch 40: Loss 6.290309906005859, Accuracy 0.087890625\n"
     ]
    },
    {
     "name": "stderr",
     "output_type": "stream",
     "text": [
      "100%|██████████| 110/110 [00:13<00:00,  8.45it/s]\n"
     ]
    },
    {
     "name": "stdout",
     "output_type": "stream",
     "text": [
      "Train: Epoch 41: Loss 0.17943120002746582, Accuracy 0.9444128787878788\n",
      "Eval: Epoch 41: Loss 6.002988338470459, Accuracy 0.087890625\n"
     ]
    },
    {
     "name": "stderr",
     "output_type": "stream",
     "text": [
      "100%|██████████| 110/110 [00:13<00:00,  8.43it/s]\n"
     ]
    },
    {
     "name": "stdout",
     "output_type": "stream",
     "text": [
      "Train: Epoch 42: Loss 0.10801491886377335, Accuracy 0.9637310606060606\n",
      "Eval: Epoch 42: Loss 6.01605224609375, Accuracy 0.08984375\n"
     ]
    },
    {
     "name": "stderr",
     "output_type": "stream",
     "text": [
      "100%|██████████| 110/110 [00:13<00:00,  7.97it/s]\n"
     ]
    },
    {
     "name": "stdout",
     "output_type": "stream",
     "text": [
      "Train: Epoch 43: Loss 0.06341787427663803, Accuracy 0.978125\n",
      "Eval: Epoch 43: Loss 5.913475513458252, Accuracy 0.08984375\n"
     ]
    },
    {
     "name": "stderr",
     "output_type": "stream",
     "text": [
      "100%|██████████| 110/110 [00:13<00:00,  8.45it/s]\n"
     ]
    },
    {
     "name": "stdout",
     "output_type": "stream",
     "text": [
      "Train: Epoch 44: Loss 0.09874025732278824, Accuracy 0.9671401515151515\n",
      "Eval: Epoch 44: Loss 6.060119152069092, Accuracy 0.1025390625\n"
     ]
    },
    {
     "name": "stderr",
     "output_type": "stream",
     "text": [
      "100%|██████████| 110/110 [00:12<00:00,  8.49it/s]\n"
     ]
    },
    {
     "name": "stdout",
     "output_type": "stream",
     "text": [
      "Train: Epoch 45: Loss 0.07258543372154236, Accuracy 0.9771780303030303\n",
      "Eval: Epoch 45: Loss 5.921055316925049, Accuracy 0.095703125\n"
     ]
    },
    {
     "name": "stderr",
     "output_type": "stream",
     "text": [
      "100%|██████████| 110/110 [00:13<00:00,  8.45it/s]\n"
     ]
    },
    {
     "name": "stdout",
     "output_type": "stream",
     "text": [
      "Train: Epoch 46: Loss 0.06072985753417015, Accuracy 0.9816287878787879\n",
      "Eval: Epoch 46: Loss 6.065211772918701, Accuracy 0.08984375\n"
     ]
    },
    {
     "name": "stderr",
     "output_type": "stream",
     "text": [
      "100%|██████████| 110/110 [00:12<00:00,  8.47it/s]\n"
     ]
    },
    {
     "name": "stdout",
     "output_type": "stream",
     "text": [
      "Train: Epoch 47: Loss 0.04047742486000061, Accuracy 0.9877840909090909\n",
      "Eval: Epoch 47: Loss 6.091626167297363, Accuracy 0.0908203125\n"
     ]
    },
    {
     "name": "stderr",
     "output_type": "stream",
     "text": [
      "100%|██████████| 110/110 [00:12<00:00,  8.52it/s]\n"
     ]
    },
    {
     "name": "stdout",
     "output_type": "stream",
     "text": [
      "Train: Epoch 48: Loss 0.04185567796230316, Accuracy 0.9858901515151516\n",
      "Eval: Epoch 48: Loss 6.207563400268555, Accuracy 0.0966796875\n"
     ]
    },
    {
     "name": "stderr",
     "output_type": "stream",
     "text": [
      "100%|██████████| 110/110 [00:13<00:00,  8.43it/s]\n"
     ]
    },
    {
     "name": "stdout",
     "output_type": "stream",
     "text": [
      "Train: Epoch 49: Loss 0.04130750149488449, Accuracy 0.9860795454545455\n",
      "Eval: Epoch 49: Loss 6.201806545257568, Accuracy 0.10546875\n"
     ]
    },
    {
     "name": "stderr",
     "output_type": "stream",
     "text": [
      "100%|██████████| 110/110 [00:13<00:00,  8.36it/s]\n"
     ]
    },
    {
     "name": "stdout",
     "output_type": "stream",
     "text": [
      "Train: Epoch 50: Loss 0.06690800189971924, Accuracy 0.9793560606060606\n",
      "Eval: Epoch 50: Loss 6.312896728515625, Accuracy 0.0966796875\n"
     ]
    },
    {
     "name": "stderr",
     "output_type": "stream",
     "text": [
      "100%|██████████| 110/110 [00:13<00:00,  8.41it/s]\n"
     ]
    },
    {
     "name": "stdout",
     "output_type": "stream",
     "text": [
      "Train: Epoch 51: Loss 0.10089778900146484, Accuracy 0.9674242424242425\n",
      "Eval: Epoch 51: Loss 6.3566436767578125, Accuracy 0.0986328125\n"
     ]
    },
    {
     "name": "stderr",
     "output_type": "stream",
     "text": [
      "100%|██████████| 110/110 [00:12<00:00,  8.47it/s]\n"
     ]
    },
    {
     "name": "stdout",
     "output_type": "stream",
     "text": [
      "Train: Epoch 52: Loss 0.12449975311756134, Accuracy 0.9613636363636363\n",
      "Eval: Epoch 52: Loss 6.24882698059082, Accuracy 0.09375\n"
     ]
    },
    {
     "name": "stderr",
     "output_type": "stream",
     "text": [
      "100%|██████████| 110/110 [00:12<00:00,  8.48it/s]\n"
     ]
    },
    {
     "name": "stdout",
     "output_type": "stream",
     "text": [
      "Train: Epoch 53: Loss 0.07173357158899307, Accuracy 0.978125\n",
      "Eval: Epoch 53: Loss 6.06035041809082, Accuracy 0.095703125\n"
     ]
    },
    {
     "name": "stderr",
     "output_type": "stream",
     "text": [
      "100%|██████████| 110/110 [00:12<00:00,  8.48it/s]\n"
     ]
    },
    {
     "name": "stdout",
     "output_type": "stream",
     "text": [
      "Train: Epoch 54: Loss 0.07154873013496399, Accuracy 0.977840909090909\n",
      "Eval: Epoch 54: Loss 6.091012477874756, Accuracy 0.099609375\n"
     ]
    },
    {
     "name": "stderr",
     "output_type": "stream",
     "text": [
      "100%|██████████| 110/110 [00:12<00:00,  8.48it/s]\n"
     ]
    },
    {
     "name": "stdout",
     "output_type": "stream",
     "text": [
      "Train: Epoch 55: Loss 0.04934803023934364, Accuracy 0.9835227272727273\n",
      "Eval: Epoch 55: Loss 5.966891765594482, Accuracy 0.099609375\n"
     ]
    },
    {
     "name": "stderr",
     "output_type": "stream",
     "text": [
      "100%|██████████| 110/110 [00:13<00:00,  8.27it/s]\n"
     ]
    },
    {
     "name": "stdout",
     "output_type": "stream",
     "text": [
      "Train: Epoch 56: Loss 0.04604398459196091, Accuracy 0.9855113636363636\n",
      "Eval: Epoch 56: Loss 6.12613582611084, Accuracy 0.1015625\n"
     ]
    },
    {
     "name": "stderr",
     "output_type": "stream",
     "text": [
      "100%|██████████| 110/110 [00:12<00:00,  8.47it/s]\n"
     ]
    },
    {
     "name": "stdout",
     "output_type": "stream",
     "text": [
      "Train: Epoch 57: Loss 0.054384954273700714, Accuracy 0.9802083333333333\n",
      "Eval: Epoch 57: Loss 6.367913722991943, Accuracy 0.099609375\n"
     ]
    },
    {
     "name": "stderr",
     "output_type": "stream",
     "text": [
      "100%|██████████| 110/110 [00:12<00:00,  8.48it/s]\n"
     ]
    },
    {
     "name": "stdout",
     "output_type": "stream",
     "text": [
      "Train: Epoch 58: Loss 0.05837467685341835, Accuracy 0.9820075757575757\n",
      "Eval: Epoch 58: Loss 6.502890110015869, Accuracy 0.09765625\n"
     ]
    },
    {
     "name": "stderr",
     "output_type": "stream",
     "text": [
      "100%|██████████| 110/110 [00:13<00:00,  8.46it/s]\n"
     ]
    },
    {
     "name": "stdout",
     "output_type": "stream",
     "text": [
      "Train: Epoch 59: Loss 0.08315024524927139, Accuracy 0.9767992424242424\n",
      "Eval: Epoch 59: Loss 6.332953453063965, Accuracy 0.099609375\n"
     ]
    },
    {
     "name": "stderr",
     "output_type": "stream",
     "text": [
      "100%|██████████| 110/110 [00:13<00:00,  8.37it/s]\n"
     ]
    },
    {
     "name": "stdout",
     "output_type": "stream",
     "text": [
      "Train: Epoch 60: Loss 0.10466431826353073, Accuracy 0.9632575757575758\n",
      "Eval: Epoch 60: Loss 6.2082085609436035, Accuracy 0.1025390625\n"
     ]
    },
    {
     "name": "stderr",
     "output_type": "stream",
     "text": [
      "100%|██████████| 110/110 [00:13<00:00,  8.19it/s]\n"
     ]
    },
    {
     "name": "stdout",
     "output_type": "stream",
     "text": [
      "Train: Epoch 61: Loss 0.0932198166847229, Accuracy 0.9698863636363636\n",
      "Eval: Epoch 61: Loss 6.328627109527588, Accuracy 0.09765625\n"
     ]
    },
    {
     "name": "stderr",
     "output_type": "stream",
     "text": [
      "100%|██████████| 110/110 [00:12<00:00,  8.47it/s]\n"
     ]
    },
    {
     "name": "stdout",
     "output_type": "stream",
     "text": [
      "Train: Epoch 62: Loss 0.046004973351955414, Accuracy 0.9840909090909091\n",
      "Eval: Epoch 62: Loss 6.351650238037109, Accuracy 0.10546875\n"
     ]
    },
    {
     "name": "stderr",
     "output_type": "stream",
     "text": [
      "100%|██████████| 110/110 [00:13<00:00,  8.32it/s]\n"
     ]
    },
    {
     "name": "stdout",
     "output_type": "stream",
     "text": [
      "Train: Epoch 63: Loss 0.050438087433576584, Accuracy 0.9807765151515152\n",
      "Eval: Epoch 63: Loss 6.371426105499268, Accuracy 0.09375\n"
     ]
    },
    {
     "name": "stderr",
     "output_type": "stream",
     "text": [
      "100%|██████████| 110/110 [00:13<00:00,  8.38it/s]\n"
     ]
    },
    {
     "name": "stdout",
     "output_type": "stream",
     "text": [
      "Train: Epoch 64: Loss 0.04343830794095993, Accuracy 0.987310606060606\n",
      "Eval: Epoch 64: Loss 6.291200637817383, Accuracy 0.107421875\n"
     ]
    },
    {
     "name": "stderr",
     "output_type": "stream",
     "text": [
      "100%|██████████| 110/110 [00:13<00:00,  8.40it/s]\n"
     ]
    },
    {
     "name": "stdout",
     "output_type": "stream",
     "text": [
      "Train: Epoch 65: Loss 0.04234476014971733, Accuracy 0.9856060606060606\n",
      "Eval: Epoch 65: Loss 6.376557350158691, Accuracy 0.1005859375\n"
     ]
    },
    {
     "name": "stderr",
     "output_type": "stream",
     "text": [
      "100%|██████████| 110/110 [00:13<00:00,  8.24it/s]\n"
     ]
    },
    {
     "name": "stdout",
     "output_type": "stream",
     "text": [
      "Train: Epoch 66: Loss 0.0636214092373848, Accuracy 0.9802083333333333\n",
      "Eval: Epoch 66: Loss 6.43035888671875, Accuracy 0.1015625\n"
     ]
    },
    {
     "name": "stderr",
     "output_type": "stream",
     "text": [
      "100%|██████████| 110/110 [00:13<00:00,  8.18it/s]\n"
     ]
    },
    {
     "name": "stdout",
     "output_type": "stream",
     "text": [
      "Train: Epoch 67: Loss 0.07154552638530731, Accuracy 0.9734848484848484\n",
      "Eval: Epoch 67: Loss 6.3925371170043945, Accuracy 0.08984375\n"
     ]
    },
    {
     "name": "stderr",
     "output_type": "stream",
     "text": [
      "100%|██████████| 110/110 [00:13<00:00,  8.36it/s]\n"
     ]
    },
    {
     "name": "stdout",
     "output_type": "stream",
     "text": [
      "Train: Epoch 68: Loss 0.10764319449663162, Accuracy 0.962215909090909\n",
      "Eval: Epoch 68: Loss 6.384787559509277, Accuracy 0.103515625\n"
     ]
    },
    {
     "name": "stderr",
     "output_type": "stream",
     "text": [
      "100%|██████████| 110/110 [00:13<00:00,  8.32it/s]\n"
     ]
    },
    {
     "name": "stdout",
     "output_type": "stream",
     "text": [
      "Train: Epoch 69: Loss 0.07291798293590546, Accuracy 0.9765151515151516\n",
      "Eval: Epoch 69: Loss 6.503803730010986, Accuracy 0.0771484375\n"
     ]
    },
    {
     "name": "stderr",
     "output_type": "stream",
     "text": [
      "100%|██████████| 110/110 [00:13<00:00,  8.35it/s]\n"
     ]
    },
    {
     "name": "stdout",
     "output_type": "stream",
     "text": [
      "Train: Epoch 70: Loss 0.05693306401371956, Accuracy 0.9818181818181818\n",
      "Eval: Epoch 70: Loss 6.660627841949463, Accuracy 0.083984375\n"
     ]
    },
    {
     "name": "stderr",
     "output_type": "stream",
     "text": [
      "100%|██████████| 110/110 [00:13<00:00,  8.44it/s]\n"
     ]
    },
    {
     "name": "stdout",
     "output_type": "stream",
     "text": [
      "Train: Epoch 71: Loss 0.03733588382601738, Accuracy 0.9886363636363636\n",
      "Eval: Epoch 71: Loss 6.569463729858398, Accuracy 0.0791015625\n"
     ]
    },
    {
     "name": "stderr",
     "output_type": "stream",
     "text": [
      "100%|██████████| 110/110 [00:13<00:00,  8.31it/s]\n"
     ]
    },
    {
     "name": "stdout",
     "output_type": "stream",
     "text": [
      "Train: Epoch 72: Loss 0.026941586285829544, Accuracy 0.9920454545454546\n",
      "Eval: Epoch 72: Loss 6.630447864532471, Accuracy 0.0791015625\n"
     ]
    },
    {
     "name": "stderr",
     "output_type": "stream",
     "text": [
      "100%|██████████| 110/110 [00:13<00:00,  8.41it/s]\n"
     ]
    },
    {
     "name": "stdout",
     "output_type": "stream",
     "text": [
      "Train: Epoch 73: Loss 0.026229072362184525, Accuracy 0.990625\n",
      "Eval: Epoch 73: Loss 6.566972732543945, Accuracy 0.08203125\n"
     ]
    },
    {
     "name": "stderr",
     "output_type": "stream",
     "text": [
      "100%|██████████| 110/110 [00:13<00:00,  8.38it/s]\n"
     ]
    },
    {
     "name": "stdout",
     "output_type": "stream",
     "text": [
      "Train: Epoch 74: Loss 0.035806234925985336, Accuracy 0.9866477272727273\n",
      "Eval: Epoch 74: Loss 6.754093170166016, Accuracy 0.087890625\n"
     ]
    },
    {
     "name": "stderr",
     "output_type": "stream",
     "text": [
      "100%|██████████| 110/110 [00:13<00:00,  8.38it/s]\n"
     ]
    },
    {
     "name": "stdout",
     "output_type": "stream",
     "text": [
      "Train: Epoch 75: Loss 0.03668461740016937, Accuracy 0.9867424242424243\n",
      "Eval: Epoch 75: Loss 6.52609395980835, Accuracy 0.099609375\n"
     ]
    },
    {
     "name": "stderr",
     "output_type": "stream",
     "text": [
      "100%|██████████| 110/110 [00:13<00:00,  8.35it/s]\n"
     ]
    },
    {
     "name": "stdout",
     "output_type": "stream",
     "text": [
      "Train: Epoch 76: Loss 0.04302404448390007, Accuracy 0.9883522727272728\n",
      "Eval: Epoch 76: Loss 6.562948226928711, Accuracy 0.1025390625\n"
     ]
    },
    {
     "name": "stderr",
     "output_type": "stream",
     "text": [
      "100%|██████████| 110/110 [00:13<00:00,  8.43it/s]\n"
     ]
    },
    {
     "name": "stdout",
     "output_type": "stream",
     "text": [
      "Train: Epoch 77: Loss 0.03794630244374275, Accuracy 0.9878787878787879\n",
      "Eval: Epoch 77: Loss 6.822087287902832, Accuracy 0.0849609375\n"
     ]
    },
    {
     "name": "stderr",
     "output_type": "stream",
     "text": [
      "100%|██████████| 110/110 [00:12<00:00,  8.53it/s]\n"
     ]
    },
    {
     "name": "stdout",
     "output_type": "stream",
     "text": [
      "Train: Epoch 78: Loss 0.06873107701539993, Accuracy 0.9793560606060606\n",
      "Eval: Epoch 78: Loss 6.900435447692871, Accuracy 0.091796875\n"
     ]
    },
    {
     "name": "stderr",
     "output_type": "stream",
     "text": [
      "100%|██████████| 110/110 [00:13<00:00,  8.42it/s]\n"
     ]
    },
    {
     "name": "stdout",
     "output_type": "stream",
     "text": [
      "Train: Epoch 79: Loss 0.06308086216449738, Accuracy 0.9790719696969697\n",
      "Eval: Epoch 79: Loss 6.761286735534668, Accuracy 0.1123046875\n"
     ]
    },
    {
     "data": {
      "text/plain": "<Figure size 1000x600 with 1 Axes>",
      "image/png": "[encoded data removed]"
     },
     "metadata": {},
     "output_type": "display_data"
    },
    {
     "data": {
      "text/plain": "<Figure size 1000x600 with 1 Axes>",
      "image/png": "[encoded data removed]"
     },
     "metadata": {},
     "output_type": "display_data"
    },
    {
     "name": "stdout",
     "output_type": "stream",
     "text": [
      "Overall Accuracy: 0.076\n"
     ]
    },
    {
     "data": {
      "text/plain": "<Figure size 1000x600 with 1 Axes>",
      "image/png": "[encoded data removed]"
     },
     "metadata": {},
     "output_type": "display_data"
    },
    {
     "data": {
      "text/plain": "<Figure size 1000x600 with 2 Axes>",
      "image/png": "[encoded data removed]"
     },
     "metadata": {},
     "output_type": "display_data"
    },
    {
     "name": "stdout",
     "output_type": "stream",
     "text": [
      "Accuracy for each key: 0: 4.0% 1: 10.0% 2: 4.0% 3: 14.0% 4: 2.0% 5: 10.0% 6: 6.0% 7: 2.0% 8: 10.0% 9: 14.0% \n",
      "              precision    recall  f1-score   support\n",
      "\n",
      "           0       0.04      0.04      0.04        50\n",
      "           1       0.10      0.10      0.10        50\n",
      "           2       0.03      0.04      0.04        50\n",
      "           3       0.09      0.14      0.11        50\n",
      "           4       0.03      0.02      0.02        50\n",
      "           5       0.11      0.10      0.11        50\n",
      "           6       0.08      0.06      0.07        50\n",
      "           7       0.02      0.02      0.02        50\n",
      "           8       0.11      0.10      0.11        50\n",
      "           9       0.13      0.14      0.14        50\n",
      "\n",
      "    accuracy                           0.08       500\n",
      "   macro avg       0.08      0.08      0.08       500\n",
      "weighted avg       0.08      0.08      0.08       500\n",
      "\n",
      "                    Model Parameters                    \n",
      "=========================================================\n",
      "Layer                    | Parameters\n",
      "=========================================================\n",
      "conv1.weight             : 64 * 4 * 7 = 1792\n",
      "conv1.bias               : 64\n",
      "bn1.weight               : 64\n",
      "bn1.bias                 : 64\n",
      "layer1.0.conv1.weight    : 64 * 64 * 3 = 12288\n",
      "layer1.0.conv1.bias      : 64\n",
      "layer1.0.bn1.weight      : 64\n",
      "layer1.0.bn1.bias        : 64\n",
      "layer1.0.conv2.weight    : 64 * 64 * 3 = 12288\n",
      "layer1.0.conv2.bias      : 64\n",
      "layer1.0.bn2.weight      : 64\n",
      "layer1.0.bn2.bias        : 64\n",
      "layer1.1.conv1.weight    : 64 * 64 * 3 = 12288\n",
      "layer1.1.conv1.bias      : 64\n",
      "layer1.1.bn1.weight      : 64\n",
      "layer1.1.bn1.bias        : 64\n",
      "layer1.1.conv2.weight    : 64 * 64 * 3 = 12288\n",
      "layer1.1.conv2.bias      : 64\n",
      "layer1.1.bn2.weight      : 64\n",
      "layer1.1.bn2.bias        : 64\n",
      "layer2.0.conv1.weight    : 128 * 64 * 3 = 24576\n",
      "layer2.0.conv1.bias      : 128\n",
      "layer2.0.bn1.weight      : 128\n",
      "layer2.0.bn1.bias        : 128\n",
      "layer2.0.conv2.weight    : 128 * 128 * 3 = 49152\n",
      "layer2.0.conv2.bias      : 128\n",
      "layer2.0.bn2.weight      : 128\n",
      "layer2.0.bn2.bias        : 128\n",
      "layer2.0.identity_downsample.0.weight: 128 * 64 * 3 = 24576\n",
      "layer2.0.identity_downsample.0.bias: 128\n",
      "layer2.0.identity_downsample.1.weight: 128\n",
      "layer2.0.identity_downsample.1.bias: 128\n",
      "layer2.1.conv1.weight    : 128 * 128 * 3 = 49152\n",
      "layer2.1.conv1.bias      : 128\n",
      "layer2.1.bn1.weight      : 128\n",
      "layer2.1.bn1.bias        : 128\n",
      "layer2.1.conv2.weight    : 128 * 128 * 3 = 49152\n",
      "layer2.1.conv2.bias      : 128\n",
      "layer2.1.bn2.weight      : 128\n",
      "layer2.1.bn2.bias        : 128\n",
      "layer3.0.conv1.weight    : 256 * 128 * 3 = 98304\n",
      "layer3.0.conv1.bias      : 256\n",
      "layer3.0.bn1.weight      : 256\n",
      "layer3.0.bn1.bias        : 256\n",
      "layer3.0.conv2.weight    : 256 * 256 * 3 = 196608\n",
      "layer3.0.conv2.bias      : 256\n",
      "layer3.0.bn2.weight      : 256\n",
      "layer3.0.bn2.bias        : 256\n",
      "layer3.0.identity_downsample.0.weight: 256 * 128 * 3 = 98304\n",
      "layer3.0.identity_downsample.0.bias: 256\n",
      "layer3.0.identity_downsample.1.weight: 256\n",
      "layer3.0.identity_downsample.1.bias: 256\n",
      "layer3.1.conv1.weight    : 256 * 256 * 3 = 196608\n",
      "layer3.1.conv1.bias      : 256\n",
      "layer3.1.bn1.weight      : 256\n",
      "layer3.1.bn1.bias        : 256\n",
      "layer3.1.conv2.weight    : 256 * 256 * 3 = 196608\n",
      "layer3.1.conv2.bias      : 256\n",
      "layer3.1.bn2.weight      : 256\n",
      "layer3.1.bn2.bias        : 256\n",
      "layer4.0.conv1.weight    : 512 * 256 * 3 = 393216\n",
      "layer4.0.conv1.bias      : 512\n",
      "layer4.0.bn1.weight      : 512\n",
      "layer4.0.bn1.bias        : 512\n",
      "layer4.0.conv2.weight    : 512 * 512 * 3 = 786432\n",
      "layer4.0.conv2.bias      : 512\n",
      "layer4.0.bn2.weight      : 512\n",
      "layer4.0.bn2.bias        : 512\n",
      "layer4.0.identity_downsample.0.weight: 512 * 256 * 3 = 393216\n",
      "layer4.0.identity_downsample.0.bias: 512\n",
      "layer4.0.identity_downsample.1.weight: 512\n",
      "layer4.0.identity_downsample.1.bias: 512\n",
      "layer4.1.conv1.weight    : 512 * 512 * 3 = 786432\n",
      "layer4.1.conv1.bias      : 512\n",
      "layer4.1.bn1.weight      : 512\n",
      "layer4.1.bn1.bias        : 512\n",
      "layer4.1.conv2.weight    : 512 * 512 * 3 = 786432\n",
      "layer4.1.conv2.bias      : 512\n",
      "layer4.1.bn2.weight      : 512\n",
      "layer4.1.bn2.bias        : 512\n",
      "fc.weight                : 10 * 512 = 5120\n",
      "fc.bias                  : 10\n",
      "=========================================================\n",
      "Total parameters         : 4199242\n",
      "=========================================================\n"
     ]
    }
   ],
   "source": [
    "def main():\n",
    "    # setup parameters and load data\n",
    "    batch_size = 32\n",
    "    epochs = 80\n",
    "    number_of_categories = 10\n",
    "    \n",
    "    X_train, X_val, X_test, y_train, y_val, y_test = importData()\n",
    "    trainDataset = CSIDataset(X_train, y_train)\n",
    "    valDataset = CSIDataset(X_val, y_val)\n",
    "    \n",
    "    trainLoader = DataLoader(trainDataset, shuffle=True, batch_size=batch_size)\n",
    "    valLoader = DataLoader(valDataset, shuffle=True, batch_size=batch_size)\n",
    "\n",
    "    model = ResNet_18(4, 10)\n",
    "    optimizer = optim.Adam(model.parameters(), lr=0.0001, weight_decay=0.0001)\n",
    "    loss = nn.CrossEntropyLoss()\n",
    "\n",
    "    # if (os.path.isfile(\"model.pth\")):\n",
    "    #     model.load_state_dict(torch.load('model.pth'))\n",
    "    # else:\n",
    "    #     train_loss_list, train_acc_list, eval_loss_list, eval_acc_list = train_and_eval(model, epochs, optimizer, trainLoader, valLoader, loss, (X_train.shape[0]//batch_size) + 1)\n",
    "    #     # save the model\n",
    "    #     torch.save(model.state_dict(), 'model.pth')\n",
    "    #     plot_loss_accuracy(train_loss_list, train_acc_list, eval_loss_list, eval_acc_list, epochs)\n",
    "        \n",
    "    train_loss_list, train_acc_list, eval_loss_list, eval_acc_list = train_and_eval(model, epochs, optimizer, trainLoader, valLoader, loss, (X_train.shape[0]//batch_size) + 1)\n",
    "    plot_loss_accuracy(train_loss_list, train_acc_list, eval_loss_list, eval_acc_list, epochs)\n",
    "    torch.save(model.state_dict(), 'model_denoised_butter.pth')\n",
    "    \n",
    "    # Simple check with test dataset\n",
    "    model.eval()\n",
    "    testDataset = CSIDataset(X_test, y_test)\n",
    "    testLoader = DataLoader(testDataset, shuffle=True, batch_size=X_test.shape[0])\n",
    "    test(model, testLoader, X_test.shape[0])\n",
    "    \n",
    "    print_model_parameters(model)\n",
    "    \n",
    "main()"
   ],
   "metadata": {
    "collapsed": false,
    "ExecuteTime": {
     "end_time": "2024-03-18T15:29:34.740164600Z",
     "start_time": "2024-03-18T15:11:05.017620800Z"
    }
   },
   "id": "8f57efd5d9456eb9"
  },
  {
   "cell_type": "code",
   "execution_count": 71,
   "outputs": [
    {
     "name": "stdout",
     "output_type": "stream",
     "text": [
      "========1436_table.npy========\n",
      "Actual: [1, 4, 3, 6] Predicted: [2 2 9 0]\n",
      "Top k predictions: \n",
      "[[2, 2, 9, 0], [3, 3, 3, 9], [8, 0, 0, 6]]\n",
      "========1458_table.npy========\n",
      "Actual: [1, 4, 5, 8] Predicted: [0 0 0 0]\n",
      "Top k predictions: \n",
      "[[0, 0, 0, 0], [6, 9, 6, 9], [9, 6, 9, 6]]\n",
      "========1524_table.npy========\n",
      "Actual: [1, 5, 2, 4] Predicted: [4 4 4 4]\n",
      "Top k predictions: \n",
      "[[4, 4, 4, 4], [1, 6, 6, 6], [6, 1, 1, 1]]\n",
      "========2289_table.npy========\n",
      "Actual: [2, 2, 8, 9] Predicted: [9 5 2 9]\n",
      "Top k predictions: \n",
      "[[9, 5, 2, 9], [5, 9, 3, 0], [0, 8, 8, 5]]\n",
      "========2379_table.npy========\n",
      "Actual: [2, 3, 7, 9] Predicted: [4 4 4 4]\n",
      "Top k predictions: \n",
      "[[4, 4, 4, 4], [1, 1, 1, 2], [7, 6, 7, 1]]\n",
      "========3371_table.npy========\n",
      "Actual: [3, 3, 7, 1] Predicted: [0 0 0 9]\n",
      "Top k predictions: \n",
      "[[0, 0, 0, 9], [9, 9, 6, 0], [6, 6, 2, 5]]\n",
      "========3917_table.npy========\n",
      "Actual: [3, 9, 1, 7] Predicted: [2 2 4 4]\n",
      "Top k predictions: \n",
      "[[2, 2, 4, 4], [4, 4, 2, 1], [1, 1, 1, 2]]\n",
      "========4477_table.npy========\n",
      "Actual: [4, 4, 7, 7] Predicted: [0 0 0 0]\n",
      "Top k predictions: \n",
      "[[0, 0, 0, 0], [9, 9, 9, 6], [6, 6, 6, 2]]\n",
      "========5011_table.npy========\n",
      "Actual: [5, 0, 1, 1] Predicted: [0 9 9 9]\n",
      "Top k predictions: \n",
      "[[0, 9, 9, 9], [9, 5, 0, 0], [6, 2, 5, 5]]\n",
      "========5542_table.npy========\n",
      "Actual: [5, 5, 4, 2] Predicted: [9 2 9 0]\n",
      "Top k predictions: \n",
      "[[9, 2, 9, 0], [0, 0, 0, 9], [5, 9, 5, 6]]\n",
      "========6071_table.npy========\n",
      "Actual: [6, 0, 7, 1] Predicted: [3 2 5 5]\n",
      "Top k predictions: \n",
      "[[3, 2, 5, 5], [5, 5, 2, 3], [8, 3, 9, 2]]\n",
      "========6647_table.npy========\n",
      "Actual: [6, 6, 4, 7] Predicted: [9 9 9 0]\n",
      "Top k predictions: \n",
      "[[9, 9, 9, 0], [0, 0, 0, 9], [5, 5, 6, 6]]\n",
      "========6790_table.npy========\n",
      "Actual: [6, 7, 9, 0] Predicted: [3 5 9 5]\n",
      "Top k predictions: \n",
      "[[3, 5, 9, 5], [5, 9, 0, 8], [8, 8, 6, 9]]\n",
      "========7031_table.npy========\n",
      "Actual: [7, 0, 3, 1] Predicted: [3 3 5 5]\n",
      "Top k predictions: \n",
      "[[3, 3, 5, 5], [2, 2, 8, 9], [7, 8, 9, 2]]\n",
      "========8305_table.npy========\n",
      "Actual: [8, 3, 0, 5] Predicted: [4 4 4 4]\n",
      "Top k predictions: \n",
      "[[4, 4, 4, 4], [6, 6, 2, 6], [1, 1, 1, 1]]\n",
      "========8890_table.npy========\n",
      "Actual: [8, 8, 9, 0] Predicted: [1 2 2 2]\n",
      "Top k predictions: \n",
      "[[1, 2, 2, 2], [2, 1, 1, 1], [5, 0, 3, 3]]\n"
     ]
    }
   ],
   "source": [
    "number_of_categories = 10\n",
    "model = ResNet1D(64, 64, 3, 1, 1, 10, number_of_categories)\n",
    "model.load_state_dict(torch.load('model_denoised_butter.pth'))\n",
    "model.eval()\n",
    "\n",
    "k = 3\n",
    "extension = \".npy\"\n",
    "for file in os.listdir(\"../data/real_env\"):\n",
    "    if file.endswith(extension):\n",
    "        print(\"========\" + file + \"========\")\n",
    "        y_batch = torch.tensor([[int(i)] for i in file.split(\"_\")[0]], dtype=torch.float32)\n",
    "        X_batch = torch.tensor(np.load(\"../data/real_env_denoised_butter/\" + file), dtype=torch.float32)\n",
    "        \n",
    "        y_batch = y_batch.type(torch.LongTensor).squeeze(1)\n",
    "        logits = model(X_batch)\n",
    "        y_pred = F.log_softmax(logits, dim=1)\n",
    "        \n",
    "        predicted = np.argmax(y_pred.cpu().detach().numpy(), axis=1)\n",
    "        print(f\"Actual: \" + f\"{y_batch.tolist()}\" + \" Predicted: \" f\"{predicted}\")\n",
    "        values, indices = y_pred.topk(k)\n",
    "        transposed_indx = torch.transpose(indices, 0, 1)\n",
    "        print(f\"Top k predictions: \\n{transposed_indx.tolist()}\")"
   ],
   "metadata": {
    "collapsed": false,
    "ExecuteTime": {
     "end_time": "2024-03-14T07:45:54.230127Z",
     "start_time": "2024-03-14T07:45:53.942127600Z"
    }
   },
   "id": "946e8f46226a53e8"
  },
  {
   "cell_type": "code",
   "execution_count": null,
   "outputs": [],
   "source": [],
   "metadata": {
    "collapsed": false
   },
   "id": "7687829336af3709"
  }
 ],
 "metadata": {
  "kernelspec": {
   "display_name": "Python 3",
   "language": "python",
   "name": "python3"
  },
  "language_info": {
   "codemirror_mode": {
    "name": "ipython",
    "version": 2
   },
   "file_extension": ".py",
   "mimetype": "text/x-python",
   "name": "python",
   "nbconvert_exporter": "python",
   "pygments_lexer": "ipython2",
   "version": "2.7.6"
  }
 },
 "nbformat": 4,
 "nbformat_minor": 5
}
